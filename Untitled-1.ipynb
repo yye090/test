{
 "cells": [
  {
   "cell_type": "code",
   "execution_count": 22,
   "metadata": {},
   "outputs": [
    {
     "name": "stdout",
     "output_type": "stream",
     "text": [
      "Element clicked.\n",
      "here\n",
      "Bearer eyJhbGciOiJSUzI1NiIsImtpZCI6ImY5NDAwODFiLTFmZTktNDNjNC1iM2YzLTEzYjA1YWU1MTMyMiIsInR5cCI6IkpXVCJ9.eyJhdWQiOltdLCJhenAiOiI2NTgxM2ExZC1iYmY0LTQzMzctYWE0MS1lNThkMWFlYzA3MjUiLCJjbGllbnRfaWQiOiI2NTgxM2ExZC1iYmY0LTQzMzctYWE0MS1lNThkMWFlYzA3MjUiLCJleHAiOjE3MjM0NjQ3MTAsImh0dHBzOi8vZ3ZjYXVzLmNsYWltL3VzZXJfbWV0YWRhdGEiOnsiY2xpZW50X2lkIjoiNmY2Njg1ZDctZjgwMi00ZDNmLTgxOGMtYjE0ODEwZjNhNTRiIiwiZmFtaWx5X25hbWUiOiJZZSIsImdpdmVuX25hbWUiOiJZb25nIEhlbmciLCJwcmVmZXJyZWRfdXNlcm5hbWUiOiJBbGxlbjgifSwiaWF0IjoxNzIzNDYxMTEwLCJpc3MiOiJodHRwczovL3d3dy50YWIuY28ubnovYXBpL3Byb3ZpZGVycy9hdXRoIiwianRpIjoiNGMxNDRiMmMtN2YzMS00OWMzLThiNDctYTQwYjBkMmZiZGE4IiwibmJmIjoxNzIzNDYxMTEwLCJzY3AiOlsib3BlbmlkIiwib2ZmbGluZV9hY2Nlc3MiXSwic3ViIjoiNmY2Njg1ZDctZjgwMi00ZDNmLTgxOGMtYjE0ODEwZjNhNTRiIn0.CM-q6Ok6iD00SfIzY0FnxXrGYIdlvvaJl9UitltOByi3I0WacXl05PWupeDgivrDBG9IkkSfgT-ahywiBR7NMUSR19emN_pGPYYWNqrQrpyysB6eRXOY0mCXj2OQ7rZcOrJCD9SFxrOhKOzBkdEOV7jRRe6KZlkxgx1oPRPcsupwIFJ3lOwQ-pqN_G_3tq_CX_0HkPJeIiXxzJ3OkNeTjHBKwKNQd37zy2-OGOGrJRZ9THWgyvNb65YltrhuDfprQqeTfqjJ2ZDqfmkNxIe-ykSysQk1WyTOnADsOpgFPMttsbNGf2aWgMDeg9f2jIHcsNtkllFo9oY9pHKEVAVCA-BhMCmq0YxjWpsF5nJBjU35hpQCcSg4EhPeDvhaWQ6ltahbLA7Cc1ptVlaJlu02aaFnst9Fbfj4O5vR0arNeaLL2Lgu1PnOplBF0WD6mDSZP2jcGL4EleysLaar9V6-1Qdw6sqJ6WGMqWRcDDhJjug_a8ATHO6CR7PZuyfY-wnawtiZpx9wMKYrOdKCqq6q-oRp5HueoXA_J23je8_1HhHcCj5wVpfbxFmYxYBvbN71LkZ_DNGz8R2B7ssHyn-5HoH9E4P9kY3yTGf5BClfYJWip0aN0w6VIonpFv9xUmYeojjrgXTcnHf5kRZNDR4dp7pzGbve8Hmvatun2xaTooc\n",
      "Bearer eyJhbGciOiJSUzI1NiIsImtpZCI6ImY5NDAwODFiLTFmZTktNDNjNC1iM2YzLTEzYjA1YWU1MTMyMiIsInR5cCI6IkpXVCJ9.eyJhdWQiOltdLCJhenAiOiI2NTgxM2ExZC1iYmY0LTQzMzctYWE0MS1lNThkMWFlYzA3MjUiLCJjbGllbnRfaWQiOiI2NTgxM2ExZC1iYmY0LTQzMzctYWE0MS1lNThkMWFlYzA3MjUiLCJleHAiOjE3MjM0NjQ3MTAsImh0dHBzOi8vZ3ZjYXVzLmNsYWltL3VzZXJfbWV0YWRhdGEiOnsiY2xpZW50X2lkIjoiNmY2Njg1ZDctZjgwMi00ZDNmLTgxOGMtYjE0ODEwZjNhNTRiIiwiZmFtaWx5X25hbWUiOiJZZSIsImdpdmVuX25hbWUiOiJZb25nIEhlbmciLCJwcmVmZXJyZWRfdXNlcm5hbWUiOiJBbGxlbjgifSwiaWF0IjoxNzIzNDYxMTEwLCJpc3MiOiJodHRwczovL3d3dy50YWIuY28ubnovYXBpL3Byb3ZpZGVycy9hdXRoIiwianRpIjoiNGMxNDRiMmMtN2YzMS00OWMzLThiNDctYTQwYjBkMmZiZGE4IiwibmJmIjoxNzIzNDYxMTEwLCJzY3AiOlsib3BlbmlkIiwib2ZmbGluZV9hY2Nlc3MiXSwic3ViIjoiNmY2Njg1ZDctZjgwMi00ZDNmLTgxOGMtYjE0ODEwZjNhNTRiIn0.CM-q6Ok6iD00SfIzY0FnxXrGYIdlvvaJl9UitltOByi3I0WacXl05PWupeDgivrDBG9IkkSfgT-ahywiBR7NMUSR19emN_pGPYYWNqrQrpyysB6eRXOY0mCXj2OQ7rZcOrJCD9SFxrOhKOzBkdEOV7jRRe6KZlkxgx1oPRPcsupwIFJ3lOwQ-pqN_G_3tq_CX_0HkPJeIiXxzJ3OkNeTjHBKwKNQd37zy2-OGOGrJRZ9THWgyvNb65YltrhuDfprQqeTfqjJ2ZDqfmkNxIe-ykSysQk1WyTOnADsOpgFPMttsbNGf2aWgMDeg9f2jIHcsNtkllFo9oY9pHKEVAVCA-BhMCmq0YxjWpsF5nJBjU35hpQCcSg4EhPeDvhaWQ6ltahbLA7Cc1ptVlaJlu02aaFnst9Fbfj4O5vR0arNeaLL2Lgu1PnOplBF0WD6mDSZP2jcGL4EleysLaar9V6-1Qdw6sqJ6WGMqWRcDDhJjug_a8ATHO6CR7PZuyfY-wnawtiZpx9wMKYrOdKCqq6q-oRp5HueoXA_J23je8_1HhHcCj5wVpfbxFmYxYBvbN71LkZ_DNGz8R2B7ssHyn-5HoH9E4P9kY3yTGf5BClfYJWip0aN0w6VIonpFv9xUmYeojjrgXTcnHf5kRZNDR4dp7pzGbve8Hmvatun2xaTooc\n"
     ]
    }
   ],
   "source": [
    "import time\n",
    "from seleniumwire import webdriver\n",
    "from selenium.webdriver.common.by import By\n",
    "from selenium.webdriver.chrome.service import Service\n",
    "from selenium.webdriver.chrome.options import Options\n",
    "from webdriver_manager.chrome import ChromeDriverManager\n",
    "from selenium.webdriver.support.ui import WebDriverWait\n",
    "from selenium.webdriver.support import expected_conditions as EC\n",
    "from browsermobproxy import Server\n",
    "\n",
    "# Setup Chrome options\n",
    "options  = Options()\n",
    "options.add_argument(\"--disable-blink-features=AutomationControlled\")  # This disables the window.navigator.webdriver check\n",
    "options.add_argument(\"user-agent=Mozilla/5.0 (Windows NT 10.0; Win64; x64) AppleWebKit/537.36 (KHTML, like Gecko) Chrome/58.0.3029.110 Safari/537.36\")\n",
    "options.add_argument(\"--disable-features=WebRtcHideLocalIpsWithMdns\")\n",
    "options.add_experimental_option(\"excludeSwitches\", [\"enable-automation\"])\n",
    "options.add_argument('window-size=1920x1080')\n",
    "\n",
    "\n",
    "options.add_argument(\"--headless\")  # Run in headless mode\n",
    "# \n",
    "# Initialize the WebDriver\n",
    "driver = webdriver.Chrome(service=Service(ChromeDriverManager().install()), options=options)\n",
    "\n",
    "\n",
    "# Navigate to the login page\n",
    "driver.get(\"https://www.tab.co.nz/\")\n",
    "\n",
    "\n",
    "try:\n",
    "    ads_btn = WebDriverWait(driver, 5).until(EC.visibility_of_element_located((By.XPATH, '//*[@id=\"headlessui-dialog-panel-5\"]/div/div/div[1]/div[1]')))\n",
    "    # Element is found, you can now interact with it\n",
    "    ads_btn.click()\n",
    "    print(\"Element clicked.\")\n",
    "    # Example of taking a screenshot\n",
    "    \n",
    "\n",
    "except:\n",
    "    print(\"Timed out waiting for the element to appear.\")\n",
    "\n",
    "# login button\n",
    "try:\n",
    "    time.sleep(5)\n",
    "    login_btn = WebDriverWait(driver, 5).until(EC.visibility_of_element_located((By.XPATH, '//*[@id=\"logged-in-actions\"]/div/button[1]')))\n",
    "    login_btn.click()\n",
    "    # # Simulate a login by filling out the form (you need to adjust selectors to fit the actual page)\n",
    "    username_input = WebDriverWait(driver, 5).until(EC.visibility_of_element_located((By.XPATH, '//*[@id=\"username\"]')))\n",
    "    username_input.send_keys(\"allen8\")\n",
    "    password_input = WebDriverWait(driver, 5).until(EC.visibility_of_element_located((By.XPATH, '//*[@id=\"password\"]')))\n",
    "    password_input.send_keys(\"fgci22st089\")\n",
    "    \n",
    "    print('here')\n",
    "except:\n",
    "    print('failed')\n",
    "\n",
    "\n",
    "\n",
    "\n",
    "# # Submit the login form\n",
    "login_button = WebDriverWait(driver, 5).until(EC.visibility_of_element_located((By.XPATH, '//*[@id=\"accept\"]')))\n",
    "login_button.click()\n",
    "# driver.get_screenshot_as_file(\"screenshot.png\")\n",
    "\n",
    "\n",
    "auth_token = ''\n",
    "# driver.get_screenshot_as_file(\"screenshot.png\")\n",
    "for request in driver.requests:\n",
    "    if request.url == 'https://api.tab.co.nz/v2/client/get?':\n",
    "        # print(request.__dict__.keys())\n",
    "        # print(request.id)\n",
    "        # print(request.headers._headers)\n",
    "        for i in request.headers._headers:\n",
    "            if i[0].lower() == 'authorization':\n",
    "                auth_token = i[1]\n",
    "                print(auth_token)\n",
    "                break\n",
    "        break\n",
    "\n",
    "# driver.get_screenshot_as_file(\"screenshot1.png\")\n",
    "# driver.quit()\n"
   ]
  },
  {
   "cell_type": "code",
   "execution_count": 24,
   "metadata": {},
   "outputs": [
    {
     "name": "stdout",
     "output_type": "stream",
     "text": [
      "Set 2 Game 9 Winner Oliver Johansson (11, 25)\n",
      "{'client_id': '6f6685d7-f802-4d3f-818c-b14810f3a54b', 'stake': 0.05, 'bets': [{'legs': [{'product_type_id': '940b8704-e497-4a76-b390-00918ff7d282', 'root_category_id': '4d54ccd1-17b0-40c3-a7e2-be08ced1e7d0', 'entrant_name': 'Oliver Johansson', 'odds': {'numerator': 11, 'denominator': 25}, 'selections': [{'position': 1, 'market_id': '62f620a9-b68d-41df-9006-9a5ef206bab0', 'event_id': '306c5d06-ed9f-4c79-b40a-d4a97e01fc41', 'entrant_id': 'c1ffd7a8-3e55-4e12-8566-a9d4b0a5c42b'}]}]}]}\n",
      "200\n",
      "{'transaction_id': '0191464c-a278-76d8-857c-1dc5634c6ba2', 'status': 'bir_delayed', 'bir_delay': {'seconds': 4, 'nanos': 800000000}}\n"
     ]
    }
   ],
   "source": [
    "import requests\n",
    "url = 'https://api.tab.co.nz/v2/sport/event-card?id=306c5d06-ed9f-4c79-b40a-d4a97e01fc41'\n",
    "\n",
    "\n",
    "\n",
    "payload = {'id':'306c5d06-ed9f-4c79-b40a-d4a97e01fc41'}\n",
    "\n",
    "response = requests.get(url, json= payload)\n",
    "\n",
    "data = response.json()\n",
    "\n",
    "prices = {}\n",
    "for price in data['prices']:\n",
    "    id = price[:price.find(\":\")]\n",
    "    if id not in prices:\n",
    "        # prices[id] = round(data[\"prices\"][price][\"odds\"][\"numerator\"] / data[\"prices\"][price][\"odds\"][\"denominator\"]  + 1,2)\n",
    "        prices[id] = (data[\"prices\"][price][\"odds\"][\"numerator\"] , data[\"prices\"][price][\"odds\"][\"denominator\"])\n",
    "for keys in data['markets']:\n",
    "    name = data['markets'][keys]['entrant_ids']\n",
    "    market_id = data['markets'][keys]['id']\n",
    "    event_id = data['markets'][keys]['event_id']\n",
    "    number_of_game = len(name)\n",
    "    for i in range(number_of_game):\n",
    "        entrant_id = name[i]\n",
    "        entrant_name = data['entrants'][name[i]]['name']\n",
    "        numerator = prices[data['entrants'][name[i]]['id']][0]\n",
    "        denominator = prices[data['entrants'][name[i]]['id']][1]\n",
    "        label = f\"{data['markets'][keys]['name']} {data['entrants'][name[i]]['name']} {prices[data['entrants'][name[i]]['id']]}\"\n",
    "        if 'Set 2 Game 9 Winner' in label:\n",
    "            print(label)\n",
    "            bet_payload = {}\n",
    "            bet_payload = {\n",
    "                    \"client_id\":\"6f6685d7-f802-4d3f-818c-b14810f3a54b\"\n",
    "                    , \"stake\":0.05\n",
    "                    , \"bets\": [\n",
    "                        {\n",
    "                        \"legs\":[\n",
    "                            {\n",
    "                            # \"bet_id\":\"4e70d9b4-3465-4e9e-8aff-bab6e131b614\",\n",
    "                            \"product_type_id\":\"940b8704-e497-4a76-b390-00918ff7d282\",\n",
    "                            \"root_category_id\":\"4d54ccd1-17b0-40c3-a7e2-be08ced1e7d0\",\n",
    "                            \"entrant_name\":entrant_name,\n",
    "                            \"odds\":{\n",
    "                                \"numerator\":numerator,\n",
    "                                \"denominator\":denominator\n",
    "                            },\n",
    "                            \"selections\":[\n",
    "                                {\n",
    "                                    \"position\":1,\n",
    "                                    \"market_id\":market_id,\n",
    "                                    \"event_id\":event_id,\n",
    "                                    \"entrant_id\":entrant_id\n",
    "                                }\n",
    "                            ]\n",
    "                            }\n",
    "                        ]\n",
    "                    }\n",
    "                        \n",
    "                    ]\n",
    "                }\n",
    "            print(bet_payload)\n",
    "            break\n",
    "\n",
    "bet_url = \"https://api.tab.co.nz/v2/betting/place-bet?\"\n",
    "\n",
    "# Define the headers for the POST request\n",
    "headers = {\n",
    "    \"authority\": \"api.tab.co.nz\",\n",
    "    \"method\": \"POST\",\n",
    "    \"path\": \"/v2/betting/place-bet?\",\n",
    "    \"scheme\": \"https\",\n",
    "    \"accept\": \"*/*\",\n",
    "    \"accept-encoding\": \"gzip, deflate, br, zstd\",\n",
    "    \"accept-language\": \"en-GB,en;q=0.9\",\n",
    "    \"authorization\": auth_token,\n",
    "    \"content-length\": \"518\",\n",
    "    \"content-type\": \"application/json\",\n",
    "    \"device-id\": \"950bc5a2-0b04-4db3-9148-9cd67415fc96\",\n",
    "    \"origin\": \"https://www.tab.co.nz\",\n",
    "    \"priority\": \"u=1, i\",\n",
    "    \"referer\": \"https://www.tab.co.nz/\",\n",
    "    \"sec-ch-ua\": \"\\\"Not)A;Brand\\\";v=\\\"99\\\", \\\"Google Chrome\\\";v=\\\"127\\\", \\\"Chromium\\\";v=\\\"127\\\"\",\n",
    "    \"sec-ch-ua-mobile\": \"?0\",\n",
    "    \"sec-ch-ua-platform\": \"\\\"Windows\\\"\",\n",
    "    \"sec-fetch-dest\": \"empty\",\n",
    "    \"sec-fetch-mode\": \"cors\",\n",
    "    \"sec-fetch-site\": \"same-site\",\n",
    "    \"user-agent\": \"Mozilla/5.0 (Windows NT 10.0; Win64; x64) AppleWebKit/537.36 (KHTML, like Gecko) Chrome/127.0.0.0 Safari/537.36\"\n",
    "}\n",
    "\n",
    "\n",
    "# Send the POST request\n",
    "bet_response = requests.post(bet_url, headers=headers, json=bet_payload)\n",
    "\n",
    "# Print the response from the server\n",
    "print(bet_response.status_code)\n",
    "print(bet_response.json())  # If the response is JSON\n"
   ]
  },
  {
   "cell_type": "code",
   "execution_count": 21,
   "metadata": {},
   "outputs": [
    {
     "name": "stdout",
     "output_type": "stream",
     "text": [
      "Bearer eyJhbGciOiJSUzI1NiIsImtpZCI6ImY5NDAwODFiLTFmZTktNDNjNC1iM2YzLTEzYjA1YWU1MTMyMiIsInR5cCI6IkpXVCJ9.eyJhdWQiOltdLCJhenAiOiI2NTgxM2ExZC1iYmY0LTQzMzctYWE0MS1lNThkMWFlYzA3MjUiLCJjbGllbnRfaWQiOiI2NTgxM2ExZC1iYmY0LTQzMzctYWE0MS1lNThkMWFlYzA3MjUiLCJleHAiOjE3MjM0NjQ1NjcsImh0dHBzOi8vZ3ZjYXVzLmNsYWltL3VzZXJfbWV0YWRhdGEiOnsiY2xpZW50X2lkIjoiNmY2Njg1ZDctZjgwMi00ZDNmLTgxOGMtYjE0ODEwZjNhNTRiIiwiZmFtaWx5X25hbWUiOiJZZSIsImdpdmVuX25hbWUiOiJZb25nIEhlbmciLCJwcmVmZXJyZWRfdXNlcm5hbWUiOiJBbGxlbjgifSwiaWF0IjoxNzIzNDYwOTY3LCJpc3MiOiJodHRwczovL3d3dy50YWIuY28ubnovYXBpL3Byb3ZpZGVycy9hdXRoIiwianRpIjoiNTUzNDhhOTktNjA3OS00OTY0LTkyMTctMjViNTQ2ZmM3ZTUxIiwibmJmIjoxNzIzNDYwOTY3LCJzY3AiOlsib3BlbmlkIiwib2ZmbGluZV9hY2Nlc3MiXSwic3ViIjoiNmY2Njg1ZDctZjgwMi00ZDNmLTgxOGMtYjE0ODEwZjNhNTRiIn0.Yph-j0zL7FDQFvRZ8KtspDUWUBX0rDZlz1EyI3ICGXISTEuo0C5CPSPEa-ROb20mUakwzACvl8-fUR1MNvLz4-HU-f08G91R1WtEe9X9-pa4wEIJQuUOgkZJMkw7L2x_0uM1X5PwkElk_R7AJ8C0Z8FC5iKM6-hDF1Jz6w-vb_FC3TC__r0j9pL3peImQL59LPEHC0aOY4cFLZYzLtMIP2kf2UxKoiuoWUB-JiagE-_3NK0qHgocVtIdveUuuC8NIVeW9JOqJld7_V6uzKwMl1o0ZFus926OdQhkwCDzUqM1Ep9-pJpM-RYxdq1aBQ5ASrxze52ekGgLh_t2NCny2faWuXz_6qLMgr_vNhDnGd2eFw29FaFC7moaC03or9QkDcjSSaGyfdXhE2iPOXMbQcsg4IQLJBYHjH9q6wlAfXgAvIhkv2zd-w2hZZ4dk8GkocMyHjsslrdxO5wMK8j9CGDFpR8620-99VlvZHSeuyqBlX5cWbW-WHuIjaI8NuDFOYw4lCuAK9NscePO3zCgzLQY4Q570pzdRNmfCyZ_lMfeUAm6EeueZuPNcmBdXwwQcM2kdOyb2rmMoB8U1aBjt-s2LHGkfaR0_LenXgKxZwLX42w3UCuYqvNAnXoex22xKUl6cJ6w-GJZNFIEP_uED1TtCvVxzmV0CBLHFqKItaA\n"
     ]
    }
   ],
   "source": [
    "for request in driver.requests:\n",
    "    if request.url == 'https://api.tab.co.nz/v2/client/get?':\n",
    "        # print(request.__dict__.keys())\n",
    "        # print(request.id)\n",
    "        # print(request.headers._headers)\n",
    "        for i in request.headers._headers:\n",
    "            if i[0].lower() == 'authorization':\n",
    "                auth_token = i[1]\n",
    "                print(auth_token)\n",
    "                break\n",
    "        break"
   ]
  },
  {
   "cell_type": "code",
   "execution_count": 12,
   "metadata": {},
   "outputs": [
    {
     "name": "stdout",
     "output_type": "stream",
     "text": [
      "https://api.tab.co.nz/v2/client/get?\n",
      "Bearer eyJhbGciOiJSUzI1NiIsImtpZCI6ImY5NDAwODFiLTFmZTktNDNjNC1iM2YzLTEzYjA1YWU1MTMyMiIsInR5cCI6IkpXVCJ9.eyJhdWQiOltdLCJhenAiOiI2NTgxM2ExZC1iYmY0LTQzMzctYWE0MS1lNThkMWFlYzA3MjUiLCJjbGllbnRfaWQiOiI2NTgxM2ExZC1iYmY0LTQzMzctYWE0MS1lNThkMWFlYzA3MjUiLCJleHAiOjE3MjM0NjQ0MzYsImh0dHBzOi8vZ3ZjYXVzLmNsYWltL3VzZXJfbWV0YWRhdGEiOnsiY2xpZW50X2lkIjoiNmY2Njg1ZDctZjgwMi00ZDNmLTgxOGMtYjE0ODEwZjNhNTRiIiwiZmFtaWx5X25hbWUiOiJZZSIsImdpdmVuX25hbWUiOiJZb25nIEhlbmciLCJwcmVmZXJyZWRfdXNlcm5hbWUiOiJBbGxlbjgifSwiaWF0IjoxNzIzNDYwODM2LCJpc3MiOiJodHRwczovL3d3dy50YWIuY28ubnovYXBpL3Byb3ZpZGVycy9hdXRoIiwianRpIjoiNWNmMTc2YTAtYzVmYi00YjhhLTk4YWMtMTQzMmI3NGNiNzcxIiwibmJmIjoxNzIzNDYwODM2LCJzY3AiOlsib3BlbmlkIiwib2ZmbGluZV9hY2Nlc3MiXSwic3ViIjoiNmY2Njg1ZDctZjgwMi00ZDNmLTgxOGMtYjE0ODEwZjNhNTRiIn0.pdpNbHedXI4ini9_JUjVNSV0BPGvRPzrjRBTdTSekMTdRFgClDBsEbMbJTiG5jtW0owS7MgvbsfkOJOlrDYg_1rPBNkrHC7NMTYfL5r6YacW_s6DwA6Ncug5gJrtDcVAsU8FSYZ1q6f0qRdY-sNVu8_caQhmhAbuPRFnj77C8lywHiNN1GKMBnnZfnETP1lW8PLslwM11m5h4AsBn1oaeb-fiew5dS1BTtRWuK0RPJ509xfbCRZs6BcKpXRt67jIvzZk41EaS2LBw1owicadtTItjUPgA7K0y982TGIbPmL9Q2ZABhf8FegR1XfNFk3ge5wjcRz99zqa03cyPxlIFXA81v7ABgnjzX-pkpU_nRfYbIQjW2YpQBpGpTQbiVJKjHYqyw8JSo37C0U8eu5mwqEPFSV0LS5geE48tXblXrXEMiwE5JB2KOUZISAVQ1qioASO-HI4aqR_QGugM2dR0wviB6cNLoR1oUB3S66Zg6CoIeA-uhyiFUv2TtJFJy2icYvQSg36b3T-mDEl5hMFEmPLQn8Zr2ttbEpDVdOuXg0sJFwLMt6Aal9_7LLUnjnAlnWzmiQCXyi6HprKgyfAQ3rN8A4cXK7L0FZDVt92o9VtTPawKWXGTrTANBOUF8vrAlFS_e_nT-VxlUQ_LwHT5GE7vmxM_nnbsdZcVPzfJb8\n",
      "https://api.tab.co.nz/v2/client/get?\n",
      "Bearer eyJhbGciOiJSUzI1NiIsImtpZCI6ImY5NDAwODFiLTFmZTktNDNjNC1iM2YzLTEzYjA1YWU1MTMyMiIsInR5cCI6IkpXVCJ9.eyJhdWQiOltdLCJhenAiOiI2NTgxM2ExZC1iYmY0LTQzMzctYWE0MS1lNThkMWFlYzA3MjUiLCJjbGllbnRfaWQiOiI2NTgxM2ExZC1iYmY0LTQzMzctYWE0MS1lNThkMWFlYzA3MjUiLCJleHAiOjE3MjM0NjQ0MzYsImh0dHBzOi8vZ3ZjYXVzLmNsYWltL3VzZXJfbWV0YWRhdGEiOnsiY2xpZW50X2lkIjoiNmY2Njg1ZDctZjgwMi00ZDNmLTgxOGMtYjE0ODEwZjNhNTRiIiwiZmFtaWx5X25hbWUiOiJZZSIsImdpdmVuX25hbWUiOiJZb25nIEhlbmciLCJwcmVmZXJyZWRfdXNlcm5hbWUiOiJBbGxlbjgifSwiaWF0IjoxNzIzNDYwODM2LCJpc3MiOiJodHRwczovL3d3dy50YWIuY28ubnovYXBpL3Byb3ZpZGVycy9hdXRoIiwianRpIjoiNWNmMTc2YTAtYzVmYi00YjhhLTk4YWMtMTQzMmI3NGNiNzcxIiwibmJmIjoxNzIzNDYwODM2LCJzY3AiOlsib3BlbmlkIiwib2ZmbGluZV9hY2Nlc3MiXSwic3ViIjoiNmY2Njg1ZDctZjgwMi00ZDNmLTgxOGMtYjE0ODEwZjNhNTRiIn0.pdpNbHedXI4ini9_JUjVNSV0BPGvRPzrjRBTdTSekMTdRFgClDBsEbMbJTiG5jtW0owS7MgvbsfkOJOlrDYg_1rPBNkrHC7NMTYfL5r6YacW_s6DwA6Ncug5gJrtDcVAsU8FSYZ1q6f0qRdY-sNVu8_caQhmhAbuPRFnj77C8lywHiNN1GKMBnnZfnETP1lW8PLslwM11m5h4AsBn1oaeb-fiew5dS1BTtRWuK0RPJ509xfbCRZs6BcKpXRt67jIvzZk41EaS2LBw1owicadtTItjUPgA7K0y982TGIbPmL9Q2ZABhf8FegR1XfNFk3ge5wjcRz99zqa03cyPxlIFXA81v7ABgnjzX-pkpU_nRfYbIQjW2YpQBpGpTQbiVJKjHYqyw8JSo37C0U8eu5mwqEPFSV0LS5geE48tXblXrXEMiwE5JB2KOUZISAVQ1qioASO-HI4aqR_QGugM2dR0wviB6cNLoR1oUB3S66Zg6CoIeA-uhyiFUv2TtJFJy2icYvQSg36b3T-mDEl5hMFEmPLQn8Zr2ttbEpDVdOuXg0sJFwLMt6Aal9_7LLUnjnAlnWzmiQCXyi6HprKgyfAQ3rN8A4cXK7L0FZDVt92o9VtTPawKWXGTrTANBOUF8vrAlFS_e_nT-VxlUQ_LwHT5GE7vmxM_nnbsdZcVPzfJb8\n",
      "https://api.tab.co.nz/v2/client/get?\n",
      "Bearer eyJhbGciOiJSUzI1NiIsImtpZCI6ImY5NDAwODFiLTFmZTktNDNjNC1iM2YzLTEzYjA1YWU1MTMyMiIsInR5cCI6IkpXVCJ9.eyJhdWQiOltdLCJhenAiOiI2NTgxM2ExZC1iYmY0LTQzMzctYWE0MS1lNThkMWFlYzA3MjUiLCJjbGllbnRfaWQiOiI2NTgxM2ExZC1iYmY0LTQzMzctYWE0MS1lNThkMWFlYzA3MjUiLCJleHAiOjE3MjM0NjQ0MzYsImh0dHBzOi8vZ3ZjYXVzLmNsYWltL3VzZXJfbWV0YWRhdGEiOnsiY2xpZW50X2lkIjoiNmY2Njg1ZDctZjgwMi00ZDNmLTgxOGMtYjE0ODEwZjNhNTRiIiwiZmFtaWx5X25hbWUiOiJZZSIsImdpdmVuX25hbWUiOiJZb25nIEhlbmciLCJwcmVmZXJyZWRfdXNlcm5hbWUiOiJBbGxlbjgifSwiaWF0IjoxNzIzNDYwODM2LCJpc3MiOiJodHRwczovL3d3dy50YWIuY28ubnovYXBpL3Byb3ZpZGVycy9hdXRoIiwianRpIjoiNWNmMTc2YTAtYzVmYi00YjhhLTk4YWMtMTQzMmI3NGNiNzcxIiwibmJmIjoxNzIzNDYwODM2LCJzY3AiOlsib3BlbmlkIiwib2ZmbGluZV9hY2Nlc3MiXSwic3ViIjoiNmY2Njg1ZDctZjgwMi00ZDNmLTgxOGMtYjE0ODEwZjNhNTRiIn0.pdpNbHedXI4ini9_JUjVNSV0BPGvRPzrjRBTdTSekMTdRFgClDBsEbMbJTiG5jtW0owS7MgvbsfkOJOlrDYg_1rPBNkrHC7NMTYfL5r6YacW_s6DwA6Ncug5gJrtDcVAsU8FSYZ1q6f0qRdY-sNVu8_caQhmhAbuPRFnj77C8lywHiNN1GKMBnnZfnETP1lW8PLslwM11m5h4AsBn1oaeb-fiew5dS1BTtRWuK0RPJ509xfbCRZs6BcKpXRt67jIvzZk41EaS2LBw1owicadtTItjUPgA7K0y982TGIbPmL9Q2ZABhf8FegR1XfNFk3ge5wjcRz99zqa03cyPxlIFXA81v7ABgnjzX-pkpU_nRfYbIQjW2YpQBpGpTQbiVJKjHYqyw8JSo37C0U8eu5mwqEPFSV0LS5geE48tXblXrXEMiwE5JB2KOUZISAVQ1qioASO-HI4aqR_QGugM2dR0wviB6cNLoR1oUB3S66Zg6CoIeA-uhyiFUv2TtJFJy2icYvQSg36b3T-mDEl5hMFEmPLQn8Zr2ttbEpDVdOuXg0sJFwLMt6Aal9_7LLUnjnAlnWzmiQCXyi6HprKgyfAQ3rN8A4cXK7L0FZDVt92o9VtTPawKWXGTrTANBOUF8vrAlFS_e_nT-VxlUQ_LwHT5GE7vmxM_nnbsdZcVPzfJb8\n",
      "https://api.tab.co.nz/v2/client/get?\n",
      "Bearer eyJhbGciOiJSUzI1NiIsImtpZCI6ImY5NDAwODFiLTFmZTktNDNjNC1iM2YzLTEzYjA1YWU1MTMyMiIsInR5cCI6IkpXVCJ9.eyJhdWQiOltdLCJhenAiOiI2NTgxM2ExZC1iYmY0LTQzMzctYWE0MS1lNThkMWFlYzA3MjUiLCJjbGllbnRfaWQiOiI2NTgxM2ExZC1iYmY0LTQzMzctYWE0MS1lNThkMWFlYzA3MjUiLCJleHAiOjE3MjM0NjQ0MzYsImh0dHBzOi8vZ3ZjYXVzLmNsYWltL3VzZXJfbWV0YWRhdGEiOnsiY2xpZW50X2lkIjoiNmY2Njg1ZDctZjgwMi00ZDNmLTgxOGMtYjE0ODEwZjNhNTRiIiwiZmFtaWx5X25hbWUiOiJZZSIsImdpdmVuX25hbWUiOiJZb25nIEhlbmciLCJwcmVmZXJyZWRfdXNlcm5hbWUiOiJBbGxlbjgifSwiaWF0IjoxNzIzNDYwODM2LCJpc3MiOiJodHRwczovL3d3dy50YWIuY28ubnovYXBpL3Byb3ZpZGVycy9hdXRoIiwianRpIjoiNWNmMTc2YTAtYzVmYi00YjhhLTk4YWMtMTQzMmI3NGNiNzcxIiwibmJmIjoxNzIzNDYwODM2LCJzY3AiOlsib3BlbmlkIiwib2ZmbGluZV9hY2Nlc3MiXSwic3ViIjoiNmY2Njg1ZDctZjgwMi00ZDNmLTgxOGMtYjE0ODEwZjNhNTRiIn0.pdpNbHedXI4ini9_JUjVNSV0BPGvRPzrjRBTdTSekMTdRFgClDBsEbMbJTiG5jtW0owS7MgvbsfkOJOlrDYg_1rPBNkrHC7NMTYfL5r6YacW_s6DwA6Ncug5gJrtDcVAsU8FSYZ1q6f0qRdY-sNVu8_caQhmhAbuPRFnj77C8lywHiNN1GKMBnnZfnETP1lW8PLslwM11m5h4AsBn1oaeb-fiew5dS1BTtRWuK0RPJ509xfbCRZs6BcKpXRt67jIvzZk41EaS2LBw1owicadtTItjUPgA7K0y982TGIbPmL9Q2ZABhf8FegR1XfNFk3ge5wjcRz99zqa03cyPxlIFXA81v7ABgnjzX-pkpU_nRfYbIQjW2YpQBpGpTQbiVJKjHYqyw8JSo37C0U8eu5mwqEPFSV0LS5geE48tXblXrXEMiwE5JB2KOUZISAVQ1qioASO-HI4aqR_QGugM2dR0wviB6cNLoR1oUB3S66Zg6CoIeA-uhyiFUv2TtJFJy2icYvQSg36b3T-mDEl5hMFEmPLQn8Zr2ttbEpDVdOuXg0sJFwLMt6Aal9_7LLUnjnAlnWzmiQCXyi6HprKgyfAQ3rN8A4cXK7L0FZDVt92o9VtTPawKWXGTrTANBOUF8vrAlFS_e_nT-VxlUQ_LwHT5GE7vmxM_nnbsdZcVPzfJb8\n",
      "https://api.tab.co.nz/v2/client/get?\n",
      "Bearer eyJhbGciOiJSUzI1NiIsImtpZCI6ImY5NDAwODFiLTFmZTktNDNjNC1iM2YzLTEzYjA1YWU1MTMyMiIsInR5cCI6IkpXVCJ9.eyJhdWQiOltdLCJhenAiOiI2NTgxM2ExZC1iYmY0LTQzMzctYWE0MS1lNThkMWFlYzA3MjUiLCJjbGllbnRfaWQiOiI2NTgxM2ExZC1iYmY0LTQzMzctYWE0MS1lNThkMWFlYzA3MjUiLCJleHAiOjE3MjM0NjQ0MzYsImh0dHBzOi8vZ3ZjYXVzLmNsYWltL3VzZXJfbWV0YWRhdGEiOnsiY2xpZW50X2lkIjoiNmY2Njg1ZDctZjgwMi00ZDNmLTgxOGMtYjE0ODEwZjNhNTRiIiwiZmFtaWx5X25hbWUiOiJZZSIsImdpdmVuX25hbWUiOiJZb25nIEhlbmciLCJwcmVmZXJyZWRfdXNlcm5hbWUiOiJBbGxlbjgifSwiaWF0IjoxNzIzNDYwODM2LCJpc3MiOiJodHRwczovL3d3dy50YWIuY28ubnovYXBpL3Byb3ZpZGVycy9hdXRoIiwianRpIjoiNWNmMTc2YTAtYzVmYi00YjhhLTk4YWMtMTQzMmI3NGNiNzcxIiwibmJmIjoxNzIzNDYwODM2LCJzY3AiOlsib3BlbmlkIiwib2ZmbGluZV9hY2Nlc3MiXSwic3ViIjoiNmY2Njg1ZDctZjgwMi00ZDNmLTgxOGMtYjE0ODEwZjNhNTRiIn0.pdpNbHedXI4ini9_JUjVNSV0BPGvRPzrjRBTdTSekMTdRFgClDBsEbMbJTiG5jtW0owS7MgvbsfkOJOlrDYg_1rPBNkrHC7NMTYfL5r6YacW_s6DwA6Ncug5gJrtDcVAsU8FSYZ1q6f0qRdY-sNVu8_caQhmhAbuPRFnj77C8lywHiNN1GKMBnnZfnETP1lW8PLslwM11m5h4AsBn1oaeb-fiew5dS1BTtRWuK0RPJ509xfbCRZs6BcKpXRt67jIvzZk41EaS2LBw1owicadtTItjUPgA7K0y982TGIbPmL9Q2ZABhf8FegR1XfNFk3ge5wjcRz99zqa03cyPxlIFXA81v7ABgnjzX-pkpU_nRfYbIQjW2YpQBpGpTQbiVJKjHYqyw8JSo37C0U8eu5mwqEPFSV0LS5geE48tXblXrXEMiwE5JB2KOUZISAVQ1qioASO-HI4aqR_QGugM2dR0wviB6cNLoR1oUB3S66Zg6CoIeA-uhyiFUv2TtJFJy2icYvQSg36b3T-mDEl5hMFEmPLQn8Zr2ttbEpDVdOuXg0sJFwLMt6Aal9_7LLUnjnAlnWzmiQCXyi6HprKgyfAQ3rN8A4cXK7L0FZDVt92o9VtTPawKWXGTrTANBOUF8vrAlFS_e_nT-VxlUQ_LwHT5GE7vmxM_nnbsdZcVPzfJb8\n"
     ]
    }
   ],
   "source": [
    "for request in driver.requests:\n",
    "    if request.url == 'https://api.tab.co.nz/v2/client/get?':\n",
    "        print(request.url)\n",
    "        for i in request.headers._headers:\n",
    "            if i[0].lower() == 'authorization':\n",
    "                auth_token = i[1]\n",
    "                print(auth_token)"
   ]
  },
  {
   "cell_type": "code",
   "execution_count": null,
   "metadata": {},
   "outputs": [],
   "source": [
    "for request in driver.requests:\n",
    "    # if request == 'https://www.tab.co.nz/api/providers/auth/oauth2/token':\n",
    "    #     print(request)\n",
    "    print(request.__dict__)"
   ]
  },
  {
   "cell_type": "code",
   "execution_count": null,
   "metadata": {},
   "outputs": [],
   "source": [
    "for response in responses:\n",
    "    print(\"URL:\", response['response']['url'])\n",
    "    print(\"Status Code:\", response['response']['status'])\n",
    "    print(\"Response Headers:\", response['response']['headers'])"
   ]
  },
  {
   "cell_type": "code",
   "execution_count": null,
   "metadata": {},
   "outputs": [],
   "source": [
    "\n",
    "driver.response_interceptor = log_response\n"
   ]
  },
  {
   "cell_type": "code",
   "execution_count": null,
   "metadata": {},
   "outputs": [],
   "source": [
    "responses"
   ]
  },
  {
   "cell_type": "code",
   "execution_count": null,
   "metadata": {},
   "outputs": [],
   "source": [
    "driver.quit()"
   ]
  },
  {
   "cell_type": "code",
   "execution_count": null,
   "metadata": {},
   "outputs": [],
   "source": [
    "# # Simulate a login by filling out the form (you need to adjust selectors to fit the actual page)\n",
    "username_input = WebDriverWait(driver, 5).until(EC.visibility_of_element_located((By.XPATH, '//*[@id=\"username\"]')))\n",
    "username_input.send_keys(\"allen8\")\n",
    "\n",
    "password_input = WebDriverWait(driver, 5).until(EC.visibility_of_element_located((By.XPATH, '//*[@id=\"password\"]')))\n",
    "password_input.send_keys(\"\")\n",
    "\n",
    "# # Submit the login form\n",
    "login_button = WebDriverWait(driver, 5).until(EC.visibility_of_element_located((By.XPATH, '//*[@id=\"accept\"]')))\n",
    "login_button.click()"
   ]
  }
 ],
 "metadata": {
  "kernelspec": {
   "display_name": ".venv",
   "language": "python",
   "name": "python3"
  },
  "language_info": {
   "codemirror_mode": {
    "name": "ipython",
    "version": 3
   },
   "file_extension": ".py",
   "mimetype": "text/x-python",
   "name": "python",
   "nbconvert_exporter": "python",
   "pygments_lexer": "ipython3",
   "version": "3.10.6"
  }
 },
 "nbformat": 4,
 "nbformat_minor": 2
}
