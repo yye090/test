{
 "cells": [
  {
   "cell_type": "code",
   "execution_count": 1,
   "metadata": {},
   "outputs": [],
   "source": [
    "import pandas as pd\n",
    "import datetime \n",
    "import numpy as np\n",
    "import matplotlib.pyplot as plt\n",
    "from datetime import datetime\n",
    "from datetime import date"
   ]
  },
  {
   "cell_type": "code",
   "execution_count": 2,
   "metadata": {},
   "outputs": [],
   "source": [
    "click_data = pd.read_csv('JD_click_data.csv')\n",
    "deliver_data = pd.read_csv('JD_delivery_data.csv')\n",
    "inventory_data = pd.read_csv('JD_inventory_data.csv')\n",
    "network_data = pd.read_csv('JD_network_data.csv')\n",
    "order_data = pd.read_csv('JD_order_data.csv')\n",
    "sku_data = pd.read_csv('JD_sku_data.csv')\n",
    "user_data = pd.read_csv('JD_user_data.csv')"
   ]
  },
  {
   "cell_type": "code",
   "execution_count": 3,
   "metadata": {},
   "outputs": [
    {
     "data": {
      "text/html": [
       "<div>\n",
       "<style scoped>\n",
       "    .dataframe tbody tr th:only-of-type {\n",
       "        vertical-align: middle;\n",
       "    }\n",
       "\n",
       "    .dataframe tbody tr th {\n",
       "        vertical-align: top;\n",
       "    }\n",
       "\n",
       "    .dataframe thead th {\n",
       "        text-align: right;\n",
       "    }\n",
       "</style>\n",
       "<table border=\"1\" class=\"dataframe\">\n",
       "  <thead>\n",
       "    <tr style=\"text-align: right;\">\n",
       "      <th></th>\n",
       "      <th>sku_ID</th>\n",
       "      <th>user_ID</th>\n",
       "      <th>request_time</th>\n",
       "      <th>channel</th>\n",
       "    </tr>\n",
       "  </thead>\n",
       "  <tbody>\n",
       "    <tr>\n",
       "      <th>0</th>\n",
       "      <td>a234e08c57</td>\n",
       "      <td>4c3d6d10c2</td>\n",
       "      <td>2018-03-01 23:57:53</td>\n",
       "      <td>wechat</td>\n",
       "    </tr>\n",
       "    <tr>\n",
       "      <th>1</th>\n",
       "      <td>6449e1fd87</td>\n",
       "      <td>-</td>\n",
       "      <td>2018-03-01 16:13:48</td>\n",
       "      <td>wechat</td>\n",
       "    </tr>\n",
       "    <tr>\n",
       "      <th>2</th>\n",
       "      <td>09b70fcd83</td>\n",
       "      <td>2791ec4485</td>\n",
       "      <td>2018-03-01 22:10:51</td>\n",
       "      <td>wechat</td>\n",
       "    </tr>\n",
       "    <tr>\n",
       "      <th>3</th>\n",
       "      <td>09b70fcd83</td>\n",
       "      <td>eb0718c1c9</td>\n",
       "      <td>2018-03-01 16:34:08</td>\n",
       "      <td>wechat</td>\n",
       "    </tr>\n",
       "    <tr>\n",
       "      <th>4</th>\n",
       "      <td>09b70fcd83</td>\n",
       "      <td>59f84cf342</td>\n",
       "      <td>2018-03-01 22:20:35</td>\n",
       "      <td>wechat</td>\n",
       "    </tr>\n",
       "  </tbody>\n",
       "</table>\n",
       "</div>"
      ],
      "text/plain": [
       "       sku_ID     user_ID         request_time channel\n",
       "0  a234e08c57  4c3d6d10c2  2018-03-01 23:57:53  wechat\n",
       "1  6449e1fd87           -  2018-03-01 16:13:48  wechat\n",
       "2  09b70fcd83  2791ec4485  2018-03-01 22:10:51  wechat\n",
       "3  09b70fcd83  eb0718c1c9  2018-03-01 16:34:08  wechat\n",
       "4  09b70fcd83  59f84cf342  2018-03-01 22:20:35  wechat"
      ]
     },
     "execution_count": 3,
     "metadata": {},
     "output_type": "execute_result"
    }
   ],
   "source": [
    "click_data.head()"
   ]
  },
  {
   "cell_type": "code",
   "execution_count": 4,
   "metadata": {},
   "outputs": [
    {
     "data": {
      "text/html": [
       "<div>\n",
       "<style scoped>\n",
       "    .dataframe tbody tr th:only-of-type {\n",
       "        vertical-align: middle;\n",
       "    }\n",
       "\n",
       "    .dataframe tbody tr th {\n",
       "        vertical-align: top;\n",
       "    }\n",
       "\n",
       "    .dataframe thead th {\n",
       "        text-align: right;\n",
       "    }\n",
       "</style>\n",
       "<table border=\"1\" class=\"dataframe\">\n",
       "  <thead>\n",
       "    <tr style=\"text-align: right;\">\n",
       "      <th></th>\n",
       "      <th>sku_ID</th>\n",
       "      <th>type</th>\n",
       "      <th>brand_ID</th>\n",
       "      <th>attribute1</th>\n",
       "      <th>attribute2</th>\n",
       "      <th>activate_date</th>\n",
       "      <th>deactivate_date</th>\n",
       "    </tr>\n",
       "  </thead>\n",
       "  <tbody>\n",
       "    <tr>\n",
       "      <th>0</th>\n",
       "      <td>a234e08c57</td>\n",
       "      <td>1</td>\n",
       "      <td>c3ab4bf4d9</td>\n",
       "      <td>3</td>\n",
       "      <td>60</td>\n",
       "      <td>NaN</td>\n",
       "      <td>NaN</td>\n",
       "    </tr>\n",
       "    <tr>\n",
       "      <th>1</th>\n",
       "      <td>6449e1fd87</td>\n",
       "      <td>1</td>\n",
       "      <td>1d8b4b4c63</td>\n",
       "      <td>2</td>\n",
       "      <td>50</td>\n",
       "      <td>NaN</td>\n",
       "      <td>NaN</td>\n",
       "    </tr>\n",
       "    <tr>\n",
       "      <th>2</th>\n",
       "      <td>09b70fcd83</td>\n",
       "      <td>2</td>\n",
       "      <td>eb7d2a675a</td>\n",
       "      <td>3</td>\n",
       "      <td>70</td>\n",
       "      <td>NaN</td>\n",
       "      <td>NaN</td>\n",
       "    </tr>\n",
       "    <tr>\n",
       "      <th>3</th>\n",
       "      <td>acad9fed04</td>\n",
       "      <td>2</td>\n",
       "      <td>9b0d3a5fc6</td>\n",
       "      <td>3</td>\n",
       "      <td>70</td>\n",
       "      <td>NaN</td>\n",
       "      <td>NaN</td>\n",
       "    </tr>\n",
       "    <tr>\n",
       "      <th>4</th>\n",
       "      <td>2fa77e3b4d</td>\n",
       "      <td>2</td>\n",
       "      <td>b681299668</td>\n",
       "      <td>-</td>\n",
       "      <td>-</td>\n",
       "      <td>NaN</td>\n",
       "      <td>NaN</td>\n",
       "    </tr>\n",
       "    <tr>\n",
       "      <th>...</th>\n",
       "      <td>...</td>\n",
       "      <td>...</td>\n",
       "      <td>...</td>\n",
       "      <td>...</td>\n",
       "      <td>...</td>\n",
       "      <td>...</td>\n",
       "      <td>...</td>\n",
       "    </tr>\n",
       "    <tr>\n",
       "      <th>31863</th>\n",
       "      <td>121d8470d2</td>\n",
       "      <td>2</td>\n",
       "      <td>3daeabd2ce</td>\n",
       "      <td>3</td>\n",
       "      <td>-</td>\n",
       "      <td>3/30/2018</td>\n",
       "      <td>NaN</td>\n",
       "    </tr>\n",
       "    <tr>\n",
       "      <th>31864</th>\n",
       "      <td>e41c62189d</td>\n",
       "      <td>2</td>\n",
       "      <td>8b40ec9ab7</td>\n",
       "      <td>-</td>\n",
       "      <td>-</td>\n",
       "      <td>NaN</td>\n",
       "      <td>NaN</td>\n",
       "    </tr>\n",
       "    <tr>\n",
       "      <th>31865</th>\n",
       "      <td>01d16f7678</td>\n",
       "      <td>2</td>\n",
       "      <td>e686890dbc</td>\n",
       "      <td>-</td>\n",
       "      <td>-</td>\n",
       "      <td>3/29/2018</td>\n",
       "      <td>NaN</td>\n",
       "    </tr>\n",
       "    <tr>\n",
       "      <th>31866</th>\n",
       "      <td>83fc55d93b</td>\n",
       "      <td>2</td>\n",
       "      <td>9d3465eacc</td>\n",
       "      <td>-</td>\n",
       "      <td>-</td>\n",
       "      <td>3/29/2018</td>\n",
       "      <td>NaN</td>\n",
       "    </tr>\n",
       "    <tr>\n",
       "      <th>31867</th>\n",
       "      <td>c1b1a4b058</td>\n",
       "      <td>2</td>\n",
       "      <td>65c76167e3</td>\n",
       "      <td>-</td>\n",
       "      <td>-</td>\n",
       "      <td>3/31/2018</td>\n",
       "      <td>NaN</td>\n",
       "    </tr>\n",
       "  </tbody>\n",
       "</table>\n",
       "<p>31868 rows × 7 columns</p>\n",
       "</div>"
      ],
      "text/plain": [
       "           sku_ID  type    brand_ID attribute1 attribute2 activate_date  \\\n",
       "0      a234e08c57     1  c3ab4bf4d9          3         60           NaN   \n",
       "1      6449e1fd87     1  1d8b4b4c63          2         50           NaN   \n",
       "2      09b70fcd83     2  eb7d2a675a          3         70           NaN   \n",
       "3      acad9fed04     2  9b0d3a5fc6          3         70           NaN   \n",
       "4      2fa77e3b4d     2  b681299668          -          -           NaN   \n",
       "...           ...   ...         ...        ...        ...           ...   \n",
       "31863  121d8470d2     2  3daeabd2ce          3          -     3/30/2018   \n",
       "31864  e41c62189d     2  8b40ec9ab7          -          -           NaN   \n",
       "31865  01d16f7678     2  e686890dbc          -          -     3/29/2018   \n",
       "31866  83fc55d93b     2  9d3465eacc          -          -     3/29/2018   \n",
       "31867  c1b1a4b058     2  65c76167e3          -          -     3/31/2018   \n",
       "\n",
       "      deactivate_date  \n",
       "0                 NaN  \n",
       "1                 NaN  \n",
       "2                 NaN  \n",
       "3                 NaN  \n",
       "4                 NaN  \n",
       "...               ...  \n",
       "31863             NaN  \n",
       "31864             NaN  \n",
       "31865             NaN  \n",
       "31866             NaN  \n",
       "31867             NaN  \n",
       "\n",
       "[31868 rows x 7 columns]"
      ]
     },
     "execution_count": 4,
     "metadata": {},
     "output_type": "execute_result"
    }
   ],
   "source": [
    "sku_data"
   ]
  },
  {
   "cell_type": "code",
   "execution_count": 5,
   "metadata": {},
   "outputs": [],
   "source": [
    "deliver_data.rename(columns = {'type':'delivery_type'}, inplace = True)\n",
    "order_data.rename(columns = {'type':'order_type'}, inplace = True)"
   ]
  },
  {
   "cell_type": "code",
   "execution_count": 6,
   "metadata": {},
   "outputs": [
    {
     "data": {
      "text/html": [
       "<div>\n",
       "<style scoped>\n",
       "    .dataframe tbody tr th:only-of-type {\n",
       "        vertical-align: middle;\n",
       "    }\n",
       "\n",
       "    .dataframe tbody tr th {\n",
       "        vertical-align: top;\n",
       "    }\n",
       "\n",
       "    .dataframe thead th {\n",
       "        text-align: right;\n",
       "    }\n",
       "</style>\n",
       "<table border=\"1\" class=\"dataframe\">\n",
       "  <thead>\n",
       "    <tr style=\"text-align: right;\">\n",
       "      <th></th>\n",
       "      <th>dc_ID</th>\n",
       "      <th>sku_ID</th>\n",
       "      <th>date</th>\n",
       "    </tr>\n",
       "  </thead>\n",
       "  <tbody>\n",
       "    <tr>\n",
       "      <th>0</th>\n",
       "      <td>9</td>\n",
       "      <td>50f6f91962</td>\n",
       "      <td>2018-03-01</td>\n",
       "    </tr>\n",
       "    <tr>\n",
       "      <th>1</th>\n",
       "      <td>9</td>\n",
       "      <td>7f0ddbcdde</td>\n",
       "      <td>2018-03-01</td>\n",
       "    </tr>\n",
       "    <tr>\n",
       "      <th>2</th>\n",
       "      <td>9</td>\n",
       "      <td>8ad5789d74</td>\n",
       "      <td>2018-03-01</td>\n",
       "    </tr>\n",
       "    <tr>\n",
       "      <th>3</th>\n",
       "      <td>9</td>\n",
       "      <td>468d34eda4</td>\n",
       "      <td>2018-03-01</td>\n",
       "    </tr>\n",
       "    <tr>\n",
       "      <th>4</th>\n",
       "      <td>9</td>\n",
       "      <td>460afaddb6</td>\n",
       "      <td>2018-03-01</td>\n",
       "    </tr>\n",
       "  </tbody>\n",
       "</table>\n",
       "</div>"
      ],
      "text/plain": [
       "   dc_ID      sku_ID        date\n",
       "0      9  50f6f91962  2018-03-01\n",
       "1      9  7f0ddbcdde  2018-03-01\n",
       "2      9  8ad5789d74  2018-03-01\n",
       "3      9  468d34eda4  2018-03-01\n",
       "4      9  460afaddb6  2018-03-01"
      ]
     },
     "execution_count": 6,
     "metadata": {},
     "output_type": "execute_result"
    }
   ],
   "source": [
    "inventory_data.head()"
   ]
  },
  {
   "cell_type": "code",
   "execution_count": 7,
   "metadata": {},
   "outputs": [
    {
     "data": {
      "text/html": [
       "<div>\n",
       "<style scoped>\n",
       "    .dataframe tbody tr th:only-of-type {\n",
       "        vertical-align: middle;\n",
       "    }\n",
       "\n",
       "    .dataframe tbody tr th {\n",
       "        vertical-align: top;\n",
       "    }\n",
       "\n",
       "    .dataframe thead th {\n",
       "        text-align: right;\n",
       "    }\n",
       "</style>\n",
       "<table border=\"1\" class=\"dataframe\">\n",
       "  <thead>\n",
       "    <tr style=\"text-align: right;\">\n",
       "      <th></th>\n",
       "      <th>region_ID</th>\n",
       "      <th>dc_ID</th>\n",
       "    </tr>\n",
       "  </thead>\n",
       "  <tbody>\n",
       "    <tr>\n",
       "      <th>0</th>\n",
       "      <td>2</td>\n",
       "      <td>57</td>\n",
       "    </tr>\n",
       "    <tr>\n",
       "      <th>1</th>\n",
       "      <td>2</td>\n",
       "      <td>43</td>\n",
       "    </tr>\n",
       "    <tr>\n",
       "      <th>2</th>\n",
       "      <td>2</td>\n",
       "      <td>42</td>\n",
       "    </tr>\n",
       "    <tr>\n",
       "      <th>3</th>\n",
       "      <td>2</td>\n",
       "      <td>66</td>\n",
       "    </tr>\n",
       "    <tr>\n",
       "      <th>4</th>\n",
       "      <td>2</td>\n",
       "      <td>20</td>\n",
       "    </tr>\n",
       "  </tbody>\n",
       "</table>\n",
       "</div>"
      ],
      "text/plain": [
       "   region_ID  dc_ID\n",
       "0          2     57\n",
       "1          2     43\n",
       "2          2     42\n",
       "3          2     66\n",
       "4          2     20"
      ]
     },
     "execution_count": 7,
     "metadata": {},
     "output_type": "execute_result"
    }
   ],
   "source": [
    "network_data.head()"
   ]
  },
  {
   "cell_type": "code",
   "execution_count": 8,
   "metadata": {},
   "outputs": [
    {
     "data": {
      "text/html": [
       "<div>\n",
       "<style scoped>\n",
       "    .dataframe tbody tr th:only-of-type {\n",
       "        vertical-align: middle;\n",
       "    }\n",
       "\n",
       "    .dataframe tbody tr th {\n",
       "        vertical-align: top;\n",
       "    }\n",
       "\n",
       "    .dataframe thead th {\n",
       "        text-align: right;\n",
       "    }\n",
       "</style>\n",
       "<table border=\"1\" class=\"dataframe\">\n",
       "  <thead>\n",
       "    <tr style=\"text-align: right;\">\n",
       "      <th></th>\n",
       "      <th>0</th>\n",
       "      <th>1</th>\n",
       "      <th>2</th>\n",
       "      <th>3</th>\n",
       "      <th>4</th>\n",
       "    </tr>\n",
       "  </thead>\n",
       "  <tbody>\n",
       "    <tr>\n",
       "      <th>order_ID</th>\n",
       "      <td>d0cf5cc6db</td>\n",
       "      <td>7444318d01</td>\n",
       "      <td>f973b01694</td>\n",
       "      <td>8c1cec8d4b</td>\n",
       "      <td>d43a33c38a</td>\n",
       "    </tr>\n",
       "    <tr>\n",
       "      <th>user_ID</th>\n",
       "      <td>0abe9ef2ce</td>\n",
       "      <td>33a9e56257</td>\n",
       "      <td>4ea3cf408f</td>\n",
       "      <td>b87cb736cb</td>\n",
       "      <td>4829223b6f</td>\n",
       "    </tr>\n",
       "    <tr>\n",
       "      <th>sku_ID</th>\n",
       "      <td>581d5b54c1</td>\n",
       "      <td>067b673f2b</td>\n",
       "      <td>623d0a582a</td>\n",
       "      <td>fc5289b139</td>\n",
       "      <td>623d0a582a</td>\n",
       "    </tr>\n",
       "    <tr>\n",
       "      <th>order_date</th>\n",
       "      <td>2018-03-01</td>\n",
       "      <td>2018-03-01</td>\n",
       "      <td>2018-03-01</td>\n",
       "      <td>2018-03-01</td>\n",
       "      <td>2018-03-01</td>\n",
       "    </tr>\n",
       "    <tr>\n",
       "      <th>order_time</th>\n",
       "      <td>2018-03-01 17:14:25.0</td>\n",
       "      <td>2018-03-01 11:10:40.0</td>\n",
       "      <td>2018-03-01 09:13:26.0</td>\n",
       "      <td>2018-03-01 21:29:50.0</td>\n",
       "      <td>2018-03-01 19:13:37.0</td>\n",
       "    </tr>\n",
       "    <tr>\n",
       "      <th>quantity</th>\n",
       "      <td>1</td>\n",
       "      <td>1</td>\n",
       "      <td>1</td>\n",
       "      <td>1</td>\n",
       "      <td>1</td>\n",
       "    </tr>\n",
       "    <tr>\n",
       "      <th>order_type</th>\n",
       "      <td>2</td>\n",
       "      <td>1</td>\n",
       "      <td>1</td>\n",
       "      <td>1</td>\n",
       "      <td>1</td>\n",
       "    </tr>\n",
       "    <tr>\n",
       "      <th>promise</th>\n",
       "      <td>-</td>\n",
       "      <td>2</td>\n",
       "      <td>2</td>\n",
       "      <td>2</td>\n",
       "      <td>1</td>\n",
       "    </tr>\n",
       "    <tr>\n",
       "      <th>original_unit_price</th>\n",
       "      <td>89.0</td>\n",
       "      <td>99.9</td>\n",
       "      <td>78.0</td>\n",
       "      <td>61.0</td>\n",
       "      <td>78.0</td>\n",
       "    </tr>\n",
       "    <tr>\n",
       "      <th>final_unit_price</th>\n",
       "      <td>79.0</td>\n",
       "      <td>53.9</td>\n",
       "      <td>58.5</td>\n",
       "      <td>35.0</td>\n",
       "      <td>53.0</td>\n",
       "    </tr>\n",
       "    <tr>\n",
       "      <th>direct_discount_per_unit</th>\n",
       "      <td>0.0</td>\n",
       "      <td>5.0</td>\n",
       "      <td>19.5</td>\n",
       "      <td>0.0</td>\n",
       "      <td>19.0</td>\n",
       "    </tr>\n",
       "    <tr>\n",
       "      <th>quantity_discount_per_unit</th>\n",
       "      <td>10.0</td>\n",
       "      <td>41.0</td>\n",
       "      <td>0.0</td>\n",
       "      <td>26.0</td>\n",
       "      <td>0.0</td>\n",
       "    </tr>\n",
       "    <tr>\n",
       "      <th>bundle_discount_per_unit</th>\n",
       "      <td>0.0</td>\n",
       "      <td>0.0</td>\n",
       "      <td>0.0</td>\n",
       "      <td>0.0</td>\n",
       "      <td>0.0</td>\n",
       "    </tr>\n",
       "    <tr>\n",
       "      <th>coupon_discount_per_unit</th>\n",
       "      <td>0.0</td>\n",
       "      <td>0.0</td>\n",
       "      <td>0.0</td>\n",
       "      <td>0.0</td>\n",
       "      <td>6.0</td>\n",
       "    </tr>\n",
       "    <tr>\n",
       "      <th>gift_item</th>\n",
       "      <td>0</td>\n",
       "      <td>0</td>\n",
       "      <td>0</td>\n",
       "      <td>0</td>\n",
       "      <td>0</td>\n",
       "    </tr>\n",
       "    <tr>\n",
       "      <th>dc_ori</th>\n",
       "      <td>4</td>\n",
       "      <td>28</td>\n",
       "      <td>28</td>\n",
       "      <td>4</td>\n",
       "      <td>3</td>\n",
       "    </tr>\n",
       "    <tr>\n",
       "      <th>dc_des</th>\n",
       "      <td>28</td>\n",
       "      <td>28</td>\n",
       "      <td>28</td>\n",
       "      <td>28</td>\n",
       "      <td>16</td>\n",
       "    </tr>\n",
       "  </tbody>\n",
       "</table>\n",
       "</div>"
      ],
      "text/plain": [
       "                                                0                      1  \\\n",
       "order_ID                               d0cf5cc6db             7444318d01   \n",
       "user_ID                                0abe9ef2ce             33a9e56257   \n",
       "sku_ID                                 581d5b54c1             067b673f2b   \n",
       "order_date                             2018-03-01             2018-03-01   \n",
       "order_time                  2018-03-01 17:14:25.0  2018-03-01 11:10:40.0   \n",
       "quantity                                        1                      1   \n",
       "order_type                                      2                      1   \n",
       "promise                                         -                      2   \n",
       "original_unit_price                          89.0                   99.9   \n",
       "final_unit_price                             79.0                   53.9   \n",
       "direct_discount_per_unit                      0.0                    5.0   \n",
       "quantity_discount_per_unit                   10.0                   41.0   \n",
       "bundle_discount_per_unit                      0.0                    0.0   \n",
       "coupon_discount_per_unit                      0.0                    0.0   \n",
       "gift_item                                       0                      0   \n",
       "dc_ori                                          4                     28   \n",
       "dc_des                                         28                     28   \n",
       "\n",
       "                                                2                      3  \\\n",
       "order_ID                               f973b01694             8c1cec8d4b   \n",
       "user_ID                                4ea3cf408f             b87cb736cb   \n",
       "sku_ID                                 623d0a582a             fc5289b139   \n",
       "order_date                             2018-03-01             2018-03-01   \n",
       "order_time                  2018-03-01 09:13:26.0  2018-03-01 21:29:50.0   \n",
       "quantity                                        1                      1   \n",
       "order_type                                      1                      1   \n",
       "promise                                         2                      2   \n",
       "original_unit_price                          78.0                   61.0   \n",
       "final_unit_price                             58.5                   35.0   \n",
       "direct_discount_per_unit                     19.5                    0.0   \n",
       "quantity_discount_per_unit                    0.0                   26.0   \n",
       "bundle_discount_per_unit                      0.0                    0.0   \n",
       "coupon_discount_per_unit                      0.0                    0.0   \n",
       "gift_item                                       0                      0   \n",
       "dc_ori                                         28                      4   \n",
       "dc_des                                         28                     28   \n",
       "\n",
       "                                                4  \n",
       "order_ID                               d43a33c38a  \n",
       "user_ID                                4829223b6f  \n",
       "sku_ID                                 623d0a582a  \n",
       "order_date                             2018-03-01  \n",
       "order_time                  2018-03-01 19:13:37.0  \n",
       "quantity                                        1  \n",
       "order_type                                      1  \n",
       "promise                                         1  \n",
       "original_unit_price                          78.0  \n",
       "final_unit_price                             53.0  \n",
       "direct_discount_per_unit                     19.0  \n",
       "quantity_discount_per_unit                    0.0  \n",
       "bundle_discount_per_unit                      0.0  \n",
       "coupon_discount_per_unit                      6.0  \n",
       "gift_item                                       0  \n",
       "dc_ori                                          3  \n",
       "dc_des                                         16  "
      ]
     },
     "execution_count": 8,
     "metadata": {},
     "output_type": "execute_result"
    }
   ],
   "source": [
    "\n",
    "order_data.head().T"
   ]
  },
  {
   "cell_type": "code",
   "execution_count": 9,
   "metadata": {},
   "outputs": [
    {
     "data": {
      "text/html": [
       "<div>\n",
       "<style scoped>\n",
       "    .dataframe tbody tr th:only-of-type {\n",
       "        vertical-align: middle;\n",
       "    }\n",
       "\n",
       "    .dataframe tbody tr th {\n",
       "        vertical-align: top;\n",
       "    }\n",
       "\n",
       "    .dataframe thead th {\n",
       "        text-align: right;\n",
       "    }\n",
       "</style>\n",
       "<table border=\"1\" class=\"dataframe\">\n",
       "  <thead>\n",
       "    <tr style=\"text-align: right;\">\n",
       "      <th></th>\n",
       "      <th>sku_ID</th>\n",
       "      <th>type</th>\n",
       "      <th>brand_ID</th>\n",
       "      <th>attribute1</th>\n",
       "      <th>attribute2</th>\n",
       "      <th>activate_date</th>\n",
       "      <th>deactivate_date</th>\n",
       "    </tr>\n",
       "  </thead>\n",
       "  <tbody>\n",
       "    <tr>\n",
       "      <th>0</th>\n",
       "      <td>a234e08c57</td>\n",
       "      <td>1</td>\n",
       "      <td>c3ab4bf4d9</td>\n",
       "      <td>3</td>\n",
       "      <td>60</td>\n",
       "      <td>NaN</td>\n",
       "      <td>NaN</td>\n",
       "    </tr>\n",
       "    <tr>\n",
       "      <th>1</th>\n",
       "      <td>6449e1fd87</td>\n",
       "      <td>1</td>\n",
       "      <td>1d8b4b4c63</td>\n",
       "      <td>2</td>\n",
       "      <td>50</td>\n",
       "      <td>NaN</td>\n",
       "      <td>NaN</td>\n",
       "    </tr>\n",
       "    <tr>\n",
       "      <th>2</th>\n",
       "      <td>09b70fcd83</td>\n",
       "      <td>2</td>\n",
       "      <td>eb7d2a675a</td>\n",
       "      <td>3</td>\n",
       "      <td>70</td>\n",
       "      <td>NaN</td>\n",
       "      <td>NaN</td>\n",
       "    </tr>\n",
       "    <tr>\n",
       "      <th>3</th>\n",
       "      <td>acad9fed04</td>\n",
       "      <td>2</td>\n",
       "      <td>9b0d3a5fc6</td>\n",
       "      <td>3</td>\n",
       "      <td>70</td>\n",
       "      <td>NaN</td>\n",
       "      <td>NaN</td>\n",
       "    </tr>\n",
       "    <tr>\n",
       "      <th>4</th>\n",
       "      <td>2fa77e3b4d</td>\n",
       "      <td>2</td>\n",
       "      <td>b681299668</td>\n",
       "      <td>-</td>\n",
       "      <td>-</td>\n",
       "      <td>NaN</td>\n",
       "      <td>NaN</td>\n",
       "    </tr>\n",
       "    <tr>\n",
       "      <th>5</th>\n",
       "      <td>9c476f7d38</td>\n",
       "      <td>2</td>\n",
       "      <td>da12781e9e</td>\n",
       "      <td>-</td>\n",
       "      <td>-</td>\n",
       "      <td>NaN</td>\n",
       "      <td>NaN</td>\n",
       "    </tr>\n",
       "    <tr>\n",
       "      <th>6</th>\n",
       "      <td>34f4bde9a4</td>\n",
       "      <td>2</td>\n",
       "      <td>da12781e9e</td>\n",
       "      <td>-</td>\n",
       "      <td>-</td>\n",
       "      <td>NaN</td>\n",
       "      <td>NaN</td>\n",
       "    </tr>\n",
       "    <tr>\n",
       "      <th>7</th>\n",
       "      <td>08eebd3d4e</td>\n",
       "      <td>2</td>\n",
       "      <td>b681299668</td>\n",
       "      <td>2</td>\n",
       "      <td>50</td>\n",
       "      <td>NaN</td>\n",
       "      <td>NaN</td>\n",
       "    </tr>\n",
       "    <tr>\n",
       "      <th>8</th>\n",
       "      <td>0f380ef1bf</td>\n",
       "      <td>2</td>\n",
       "      <td>fd68e214e8</td>\n",
       "      <td>3</td>\n",
       "      <td>60</td>\n",
       "      <td>NaN</td>\n",
       "      <td>NaN</td>\n",
       "    </tr>\n",
       "    <tr>\n",
       "      <th>9</th>\n",
       "      <td>d66bddc96f</td>\n",
       "      <td>2</td>\n",
       "      <td>4f65703579</td>\n",
       "      <td>-</td>\n",
       "      <td>100</td>\n",
       "      <td>NaN</td>\n",
       "      <td>NaN</td>\n",
       "    </tr>\n",
       "    <tr>\n",
       "      <th>10</th>\n",
       "      <td>f0de647b20</td>\n",
       "      <td>2</td>\n",
       "      <td>b0e0ae4902</td>\n",
       "      <td>4</td>\n",
       "      <td>-</td>\n",
       "      <td>NaN</td>\n",
       "      <td>NaN</td>\n",
       "    </tr>\n",
       "    <tr>\n",
       "      <th>11</th>\n",
       "      <td>cca1221be8</td>\n",
       "      <td>2</td>\n",
       "      <td>ddb787aeb9</td>\n",
       "      <td>3</td>\n",
       "      <td>100</td>\n",
       "      <td>NaN</td>\n",
       "      <td>NaN</td>\n",
       "    </tr>\n",
       "    <tr>\n",
       "      <th>12</th>\n",
       "      <td>89ed37a8c7</td>\n",
       "      <td>2</td>\n",
       "      <td>ddb787aeb9</td>\n",
       "      <td>3</td>\n",
       "      <td>100</td>\n",
       "      <td>NaN</td>\n",
       "      <td>NaN</td>\n",
       "    </tr>\n",
       "    <tr>\n",
       "      <th>13</th>\n",
       "      <td>22e9ebcaec</td>\n",
       "      <td>2</td>\n",
       "      <td>f864d88130</td>\n",
       "      <td>-</td>\n",
       "      <td>-</td>\n",
       "      <td>NaN</td>\n",
       "      <td>NaN</td>\n",
       "    </tr>\n",
       "    <tr>\n",
       "      <th>14</th>\n",
       "      <td>dc6d55c7bf</td>\n",
       "      <td>2</td>\n",
       "      <td>6224afc07e</td>\n",
       "      <td>-</td>\n",
       "      <td>30</td>\n",
       "      <td>NaN</td>\n",
       "      <td>NaN</td>\n",
       "    </tr>\n",
       "    <tr>\n",
       "      <th>15</th>\n",
       "      <td>b3771ca7c1</td>\n",
       "      <td>2</td>\n",
       "      <td>f1d00479ef</td>\n",
       "      <td>2</td>\n",
       "      <td>30</td>\n",
       "      <td>NaN</td>\n",
       "      <td>3/23/2018</td>\n",
       "    </tr>\n",
       "    <tr>\n",
       "      <th>16</th>\n",
       "      <td>02042d9606</td>\n",
       "      <td>2</td>\n",
       "      <td>1cd935548a</td>\n",
       "      <td>2</td>\n",
       "      <td>-</td>\n",
       "      <td>NaN</td>\n",
       "      <td>NaN</td>\n",
       "    </tr>\n",
       "    <tr>\n",
       "      <th>17</th>\n",
       "      <td>033b93b43f</td>\n",
       "      <td>2</td>\n",
       "      <td>885083a221</td>\n",
       "      <td>-</td>\n",
       "      <td>-</td>\n",
       "      <td>NaN</td>\n",
       "      <td>NaN</td>\n",
       "    </tr>\n",
       "    <tr>\n",
       "      <th>18</th>\n",
       "      <td>c25a3ca9bb</td>\n",
       "      <td>2</td>\n",
       "      <td>3860bee7ce</td>\n",
       "      <td>-</td>\n",
       "      <td>60</td>\n",
       "      <td>NaN</td>\n",
       "      <td>NaN</td>\n",
       "    </tr>\n",
       "    <tr>\n",
       "      <th>19</th>\n",
       "      <td>abb24cb58e</td>\n",
       "      <td>2</td>\n",
       "      <td>b7e5c0f937</td>\n",
       "      <td>3</td>\n",
       "      <td>60</td>\n",
       "      <td>NaN</td>\n",
       "      <td>NaN</td>\n",
       "    </tr>\n",
       "  </tbody>\n",
       "</table>\n",
       "</div>"
      ],
      "text/plain": [
       "        sku_ID  type    brand_ID attribute1 attribute2 activate_date  \\\n",
       "0   a234e08c57     1  c3ab4bf4d9          3         60           NaN   \n",
       "1   6449e1fd87     1  1d8b4b4c63          2         50           NaN   \n",
       "2   09b70fcd83     2  eb7d2a675a          3         70           NaN   \n",
       "3   acad9fed04     2  9b0d3a5fc6          3         70           NaN   \n",
       "4   2fa77e3b4d     2  b681299668          -          -           NaN   \n",
       "5   9c476f7d38     2  da12781e9e          -          -           NaN   \n",
       "6   34f4bde9a4     2  da12781e9e          -          -           NaN   \n",
       "7   08eebd3d4e     2  b681299668          2         50           NaN   \n",
       "8   0f380ef1bf     2  fd68e214e8          3         60           NaN   \n",
       "9   d66bddc96f     2  4f65703579          -        100           NaN   \n",
       "10  f0de647b20     2  b0e0ae4902          4          -           NaN   \n",
       "11  cca1221be8     2  ddb787aeb9          3        100           NaN   \n",
       "12  89ed37a8c7     2  ddb787aeb9          3        100           NaN   \n",
       "13  22e9ebcaec     2  f864d88130          -          -           NaN   \n",
       "14  dc6d55c7bf     2  6224afc07e          -         30           NaN   \n",
       "15  b3771ca7c1     2  f1d00479ef          2         30           NaN   \n",
       "16  02042d9606     2  1cd935548a          2          -           NaN   \n",
       "17  033b93b43f     2  885083a221          -          -           NaN   \n",
       "18  c25a3ca9bb     2  3860bee7ce          -         60           NaN   \n",
       "19  abb24cb58e     2  b7e5c0f937          3         60           NaN   \n",
       "\n",
       "   deactivate_date  \n",
       "0              NaN  \n",
       "1              NaN  \n",
       "2              NaN  \n",
       "3              NaN  \n",
       "4              NaN  \n",
       "5              NaN  \n",
       "6              NaN  \n",
       "7              NaN  \n",
       "8              NaN  \n",
       "9              NaN  \n",
       "10             NaN  \n",
       "11             NaN  \n",
       "12             NaN  \n",
       "13             NaN  \n",
       "14             NaN  \n",
       "15       3/23/2018  \n",
       "16             NaN  \n",
       "17             NaN  \n",
       "18             NaN  \n",
       "19             NaN  "
      ]
     },
     "execution_count": 9,
     "metadata": {},
     "output_type": "execute_result"
    }
   ],
   "source": [
    "sku_data.head(20)"
   ]
  },
  {
   "cell_type": "code",
   "execution_count": 10,
   "metadata": {},
   "outputs": [
    {
     "data": {
      "text/html": [
       "<div>\n",
       "<style scoped>\n",
       "    .dataframe tbody tr th:only-of-type {\n",
       "        vertical-align: middle;\n",
       "    }\n",
       "\n",
       "    .dataframe tbody tr th {\n",
       "        vertical-align: top;\n",
       "    }\n",
       "\n",
       "    .dataframe thead th {\n",
       "        text-align: right;\n",
       "    }\n",
       "</style>\n",
       "<table border=\"1\" class=\"dataframe\">\n",
       "  <thead>\n",
       "    <tr style=\"text-align: right;\">\n",
       "      <th></th>\n",
       "      <th>user_ID</th>\n",
       "      <th>user_level</th>\n",
       "      <th>first_order_month</th>\n",
       "      <th>plus</th>\n",
       "      <th>gender</th>\n",
       "      <th>age</th>\n",
       "      <th>marital_status</th>\n",
       "      <th>education</th>\n",
       "      <th>city_level</th>\n",
       "      <th>purchase_power</th>\n",
       "    </tr>\n",
       "  </thead>\n",
       "  <tbody>\n",
       "    <tr>\n",
       "      <th>0</th>\n",
       "      <td>000089d6a6</td>\n",
       "      <td>1</td>\n",
       "      <td>2017-08</td>\n",
       "      <td>0</td>\n",
       "      <td>F</td>\n",
       "      <td>26-35</td>\n",
       "      <td>S</td>\n",
       "      <td>3</td>\n",
       "      <td>4</td>\n",
       "      <td>3</td>\n",
       "    </tr>\n",
       "    <tr>\n",
       "      <th>1</th>\n",
       "      <td>0000babd1f</td>\n",
       "      <td>1</td>\n",
       "      <td>2018-03</td>\n",
       "      <td>0</td>\n",
       "      <td>U</td>\n",
       "      <td>U</td>\n",
       "      <td>U</td>\n",
       "      <td>-1</td>\n",
       "      <td>-1</td>\n",
       "      <td>-1</td>\n",
       "    </tr>\n",
       "    <tr>\n",
       "      <th>2</th>\n",
       "      <td>0000bc018b</td>\n",
       "      <td>3</td>\n",
       "      <td>2016-06</td>\n",
       "      <td>0</td>\n",
       "      <td>F</td>\n",
       "      <td>&gt;=56</td>\n",
       "      <td>M</td>\n",
       "      <td>3</td>\n",
       "      <td>2</td>\n",
       "      <td>3</td>\n",
       "    </tr>\n",
       "    <tr>\n",
       "      <th>3</th>\n",
       "      <td>0000d0e5ab</td>\n",
       "      <td>3</td>\n",
       "      <td>2014-06</td>\n",
       "      <td>0</td>\n",
       "      <td>M</td>\n",
       "      <td>26-35</td>\n",
       "      <td>M</td>\n",
       "      <td>3</td>\n",
       "      <td>2</td>\n",
       "      <td>2</td>\n",
       "    </tr>\n",
       "    <tr>\n",
       "      <th>4</th>\n",
       "      <td>0000dce472</td>\n",
       "      <td>3</td>\n",
       "      <td>2012-08</td>\n",
       "      <td>1</td>\n",
       "      <td>U</td>\n",
       "      <td>U</td>\n",
       "      <td>U</td>\n",
       "      <td>-1</td>\n",
       "      <td>-1</td>\n",
       "      <td>-1</td>\n",
       "    </tr>\n",
       "  </tbody>\n",
       "</table>\n",
       "</div>"
      ],
      "text/plain": [
       "      user_ID  user_level first_order_month  plus gender    age  \\\n",
       "0  000089d6a6           1           2017-08     0      F  26-35   \n",
       "1  0000babd1f           1           2018-03     0      U      U   \n",
       "2  0000bc018b           3           2016-06     0      F   >=56   \n",
       "3  0000d0e5ab           3           2014-06     0      M  26-35   \n",
       "4  0000dce472           3           2012-08     1      U      U   \n",
       "\n",
       "  marital_status  education  city_level  purchase_power  \n",
       "0              S          3           4               3  \n",
       "1              U         -1          -1              -1  \n",
       "2              M          3           2               3  \n",
       "3              M          3           2               2  \n",
       "4              U         -1          -1              -1  "
      ]
     },
     "execution_count": 10,
     "metadata": {},
     "output_type": "execute_result"
    }
   ],
   "source": [
    "user_data.head()"
   ]
  },
  {
   "cell_type": "code",
   "execution_count": 4,
   "metadata": {},
   "outputs": [],
   "source": [
    "#Joining deliver_data and order_data based on order_ID\n",
    "delivery_data = pd.merge(deliver_data,order_data, on =['order_ID'])"
   ]
  },
  {
   "cell_type": "code",
   "execution_count": null,
   "metadata": {},
   "outputs": [],
   "source": [
    "delivery_data.head().T"
   ]
  },
  {
   "cell_type": "code",
   "execution_count": null,
   "metadata": {},
   "outputs": [],
   "source": [
    "delivery_sku_data = pd.merge(delivery_data,sku_data, on =['sku_ID'])\n",
    "delivery_sku_data_ = delivery_sku_data[['brand_ID','order_type']]\n",
    "grouped = delivery_sku_data_.groupby('brand_ID')['order_type'].nunique()\n",
    "filtered_brands = grouped[grouped == 2].index\n",
    "filtered_df = delivery_sku_data[delivery_sku_data['brand_ID'].isin(filtered_brands)].copy()\n",
    "\n"
   ]
  },
  {
   "cell_type": "code",
   "execution_count": null,
   "metadata": {},
   "outputs": [],
   "source": [
    "\n",
    "filtered_df['delivered_time'] = ((filtered_df['arr_time'].astype('datetime64[ns]') - filtered_df['order_time'].astype('datetime64[ns]'))/ pd.Timedelta(hours=1))\n",
    "filtered_df['delivered_time'].astype('float')\n",
    "filtered_df['quantity_discount_per_unit_%'] = filtered_df['quantity_discount_per_unit'] / filtered_df['original_unit_price'] \n",
    "filtered_df['bundle_discount_per_unit_%'] = filtered_df['bundle_discount_per_unit'] / filtered_df['original_unit_price'] \n",
    "filtered_df['direct_discount_per_unit_%'] = filtered_df['direct_discount_per_unit'] / filtered_df['original_unit_price'] \n",
    "filtered_df['coupon_discount_per_unit_%'] = filtered_df['coupon_discount_per_unit'] / filtered_df['original_unit_price'] \n",
    "\n",
    "filtered_df['discount_per_unit%'] = (filtered_df['original_unit_price'] - filtered_df['final_unit_price'])/ filtered_df['original_unit_price']\n",
    "\n",
    "\n",
    "\n",
    "# avg_delivery_time = filtered_df.groupby('brand_ID')['delivered_time'].mean()\n",
    "# avg_delivery_time = avg_delivery_time.to_frame().reset_index()\n",
    "# avg_delivery_time"
   ]
  },
  {
   "cell_type": "code",
   "execution_count": null,
   "metadata": {},
   "outputs": [],
   "source": [
    "filtered_df2 = filtered_df.query('promise != \"-\"').copy()\n",
    "\n",
    "filtered_df2['Satisfaction'] = np.where(filtered_df2['delivered_time'] < (filtered_df2['promise'].astype('float') * 24), 1,0)\n",
    "filtered_df2.head().T\n",
    "# 'yes' if (filtered_df2['delivered_time'] < (filtered_df2['promise'].astype('float') * 24)) else 'no'"
   ]
  },
  {
   "cell_type": "code",
   "execution_count": null,
   "metadata": {},
   "outputs": [],
   "source": [
    "filtered_df[['brand_ID','discount_per_unit%','order_type']].query('order_type == 2').groupby(['brand_ID','order_type'])['discount_per_unit%'].mean().reset_index().fillna(0)"
   ]
  },
  {
   "cell_type": "code",
   "execution_count": null,
   "metadata": {},
   "outputs": [],
   "source": [
    "filtered_df2[['brand_ID','Satisfaction','order_type']].query('order_type == 2').groupby(['brand_ID','order_type'])['Satisfaction'].mean().reset_index()"
   ]
  },
  {
   "cell_type": "code",
   "execution_count": 49,
   "metadata": {},
   "outputs": [
    {
     "data": {
      "text/html": [
       "<div>\n",
       "<style scoped>\n",
       "    .dataframe tbody tr th:only-of-type {\n",
       "        vertical-align: middle;\n",
       "    }\n",
       "\n",
       "    .dataframe tbody tr th {\n",
       "        vertical-align: top;\n",
       "    }\n",
       "\n",
       "    .dataframe thead th {\n",
       "        text-align: right;\n",
       "    }\n",
       "</style>\n",
       "<table border=\"1\" class=\"dataframe\">\n",
       "  <thead>\n",
       "    <tr style=\"text-align: right;\">\n",
       "      <th></th>\n",
       "      <th>0</th>\n",
       "      <th>1</th>\n",
       "      <th>2</th>\n",
       "      <th>3</th>\n",
       "      <th>4</th>\n",
       "    </tr>\n",
       "  </thead>\n",
       "  <tbody>\n",
       "    <tr>\n",
       "      <th>package_ID</th>\n",
       "      <td>dc3d6d2258</td>\n",
       "      <td>19802a570c</td>\n",
       "      <td>e22627af66</td>\n",
       "      <td>e22627af66</td>\n",
       "      <td>e22627af66</td>\n",
       "    </tr>\n",
       "    <tr>\n",
       "      <th>order_ID</th>\n",
       "      <td>dc3d6d2258</td>\n",
       "      <td>19802a570c</td>\n",
       "      <td>e22627af66</td>\n",
       "      <td>e22627af66</td>\n",
       "      <td>e22627af66</td>\n",
       "    </tr>\n",
       "    <tr>\n",
       "      <th>delivery_type</th>\n",
       "      <td>1</td>\n",
       "      <td>1</td>\n",
       "      <td>1</td>\n",
       "      <td>1</td>\n",
       "      <td>1</td>\n",
       "    </tr>\n",
       "    <tr>\n",
       "      <th>ship_out_time</th>\n",
       "      <td>2018-03-01 08:00:00</td>\n",
       "      <td>2018-03-01 10:00:00</td>\n",
       "      <td>2018-03-01 11:00:00</td>\n",
       "      <td>2018-03-01 11:00:00</td>\n",
       "      <td>2018-03-01 11:00:00</td>\n",
       "    </tr>\n",
       "    <tr>\n",
       "      <th>arr_station_time</th>\n",
       "      <td>2018-03-01 15:00:00</td>\n",
       "      <td>2018-03-01 15:00:00</td>\n",
       "      <td>2018-03-01 15:00:00</td>\n",
       "      <td>2018-03-01 15:00:00</td>\n",
       "      <td>2018-03-01 15:00:00</td>\n",
       "    </tr>\n",
       "    <tr>\n",
       "      <th>arr_time</th>\n",
       "      <td>2018-03-01 18:00:00</td>\n",
       "      <td>2018-03-01 17:00:00</td>\n",
       "      <td>2018-03-01 17:00:00</td>\n",
       "      <td>2018-03-01 17:00:00</td>\n",
       "      <td>2018-03-01 17:00:00</td>\n",
       "    </tr>\n",
       "    <tr>\n",
       "      <th>user_ID</th>\n",
       "      <td>ee666e25c3</td>\n",
       "      <td>845df5b5f2</td>\n",
       "      <td>cae0d8c01f</td>\n",
       "      <td>cae0d8c01f</td>\n",
       "      <td>cae0d8c01f</td>\n",
       "    </tr>\n",
       "    <tr>\n",
       "      <th>sku_ID</th>\n",
       "      <td>2e06817802</td>\n",
       "      <td>5ae1bb1c76</td>\n",
       "      <td>b8c182c74f</td>\n",
       "      <td>c98d32ff09</td>\n",
       "      <td>c98d32ff09</td>\n",
       "    </tr>\n",
       "    <tr>\n",
       "      <th>order_date</th>\n",
       "      <td>2018-03-01</td>\n",
       "      <td>2018-03-01</td>\n",
       "      <td>2018-03-01</td>\n",
       "      <td>2018-03-01</td>\n",
       "      <td>2018-03-01</td>\n",
       "    </tr>\n",
       "    <tr>\n",
       "      <th>order_time</th>\n",
       "      <td>2018-03-01 06:21:07.0</td>\n",
       "      <td>2018-03-01 09:10:09.0</td>\n",
       "      <td>2018-03-01 10:50:41.0</td>\n",
       "      <td>2018-03-01 10:50:41.0</td>\n",
       "      <td>2018-03-01 10:50:41.0</td>\n",
       "    </tr>\n",
       "    <tr>\n",
       "      <th>quantity</th>\n",
       "      <td>1</td>\n",
       "      <td>1</td>\n",
       "      <td>1</td>\n",
       "      <td>3</td>\n",
       "      <td>3</td>\n",
       "    </tr>\n",
       "    <tr>\n",
       "      <th>order_type</th>\n",
       "      <td>1</td>\n",
       "      <td>1</td>\n",
       "      <td>1</td>\n",
       "      <td>1</td>\n",
       "      <td>1</td>\n",
       "    </tr>\n",
       "    <tr>\n",
       "      <th>promise</th>\n",
       "      <td>1</td>\n",
       "      <td>1</td>\n",
       "      <td>1</td>\n",
       "      <td>1</td>\n",
       "      <td>1</td>\n",
       "    </tr>\n",
       "    <tr>\n",
       "      <th>original_unit_price</th>\n",
       "      <td>36.0</td>\n",
       "      <td>78.0</td>\n",
       "      <td>230.0</td>\n",
       "      <td>0.0</td>\n",
       "      <td>0.0</td>\n",
       "    </tr>\n",
       "    <tr>\n",
       "      <th>final_unit_price</th>\n",
       "      <td>33.0</td>\n",
       "      <td>59.0</td>\n",
       "      <td>188.0</td>\n",
       "      <td>0.0</td>\n",
       "      <td>-0.333333</td>\n",
       "    </tr>\n",
       "    <tr>\n",
       "      <th>direct_discount_per_unit</th>\n",
       "      <td>0.0</td>\n",
       "      <td>19.0</td>\n",
       "      <td>0.0</td>\n",
       "      <td>0.0</td>\n",
       "      <td>0.0</td>\n",
       "    </tr>\n",
       "    <tr>\n",
       "      <th>quantity_discount_per_unit</th>\n",
       "      <td>0.0</td>\n",
       "      <td>0.0</td>\n",
       "      <td>0.0</td>\n",
       "      <td>0.0</td>\n",
       "      <td>0.0</td>\n",
       "    </tr>\n",
       "    <tr>\n",
       "      <th>bundle_discount_per_unit</th>\n",
       "      <td>0.0</td>\n",
       "      <td>0.0</td>\n",
       "      <td>0.0</td>\n",
       "      <td>0.0</td>\n",
       "      <td>0.0</td>\n",
       "    </tr>\n",
       "    <tr>\n",
       "      <th>coupon_discount_per_unit</th>\n",
       "      <td>3.0</td>\n",
       "      <td>0.0</td>\n",
       "      <td>42.0</td>\n",
       "      <td>0.0</td>\n",
       "      <td>0.333333</td>\n",
       "    </tr>\n",
       "    <tr>\n",
       "      <th>gift_item</th>\n",
       "      <td>0</td>\n",
       "      <td>0</td>\n",
       "      <td>0</td>\n",
       "      <td>1</td>\n",
       "      <td>1</td>\n",
       "    </tr>\n",
       "    <tr>\n",
       "      <th>dc_ori</th>\n",
       "      <td>4</td>\n",
       "      <td>2</td>\n",
       "      <td>5</td>\n",
       "      <td>5</td>\n",
       "      <td>5</td>\n",
       "    </tr>\n",
       "    <tr>\n",
       "      <th>dc_des</th>\n",
       "      <td>4</td>\n",
       "      <td>2</td>\n",
       "      <td>5</td>\n",
       "      <td>5</td>\n",
       "      <td>5</td>\n",
       "    </tr>\n",
       "    <tr>\n",
       "      <th>actual_delivery_time</th>\n",
       "      <td>0.485336</td>\n",
       "      <td>0.326285</td>\n",
       "      <td>0.25647</td>\n",
       "      <td>0.25647</td>\n",
       "      <td>0.25647</td>\n",
       "    </tr>\n",
       "    <tr>\n",
       "      <th>benchmark</th>\n",
       "      <td>0.514664</td>\n",
       "      <td>0.673715</td>\n",
       "      <td>0.74353</td>\n",
       "      <td>0.74353</td>\n",
       "      <td>0.74353</td>\n",
       "    </tr>\n",
       "  </tbody>\n",
       "</table>\n",
       "</div>"
      ],
      "text/plain": [
       "                                                0                      1  \\\n",
       "package_ID                             dc3d6d2258             19802a570c   \n",
       "order_ID                               dc3d6d2258             19802a570c   \n",
       "delivery_type                                   1                      1   \n",
       "ship_out_time                 2018-03-01 08:00:00    2018-03-01 10:00:00   \n",
       "arr_station_time              2018-03-01 15:00:00    2018-03-01 15:00:00   \n",
       "arr_time                      2018-03-01 18:00:00    2018-03-01 17:00:00   \n",
       "user_ID                                ee666e25c3             845df5b5f2   \n",
       "sku_ID                                 2e06817802             5ae1bb1c76   \n",
       "order_date                             2018-03-01             2018-03-01   \n",
       "order_time                  2018-03-01 06:21:07.0  2018-03-01 09:10:09.0   \n",
       "quantity                                        1                      1   \n",
       "order_type                                      1                      1   \n",
       "promise                                         1                      1   \n",
       "original_unit_price                          36.0                   78.0   \n",
       "final_unit_price                             33.0                   59.0   \n",
       "direct_discount_per_unit                      0.0                   19.0   \n",
       "quantity_discount_per_unit                    0.0                    0.0   \n",
       "bundle_discount_per_unit                      0.0                    0.0   \n",
       "coupon_discount_per_unit                      3.0                    0.0   \n",
       "gift_item                                       0                      0   \n",
       "dc_ori                                          4                      2   \n",
       "dc_des                                          4                      2   \n",
       "actual_delivery_time                     0.485336               0.326285   \n",
       "benchmark                                0.514664               0.673715   \n",
       "\n",
       "                                                2                      3  \\\n",
       "package_ID                             e22627af66             e22627af66   \n",
       "order_ID                               e22627af66             e22627af66   \n",
       "delivery_type                                   1                      1   \n",
       "ship_out_time                 2018-03-01 11:00:00    2018-03-01 11:00:00   \n",
       "arr_station_time              2018-03-01 15:00:00    2018-03-01 15:00:00   \n",
       "arr_time                      2018-03-01 17:00:00    2018-03-01 17:00:00   \n",
       "user_ID                                cae0d8c01f             cae0d8c01f   \n",
       "sku_ID                                 b8c182c74f             c98d32ff09   \n",
       "order_date                             2018-03-01             2018-03-01   \n",
       "order_time                  2018-03-01 10:50:41.0  2018-03-01 10:50:41.0   \n",
       "quantity                                        1                      3   \n",
       "order_type                                      1                      1   \n",
       "promise                                         1                      1   \n",
       "original_unit_price                         230.0                    0.0   \n",
       "final_unit_price                            188.0                    0.0   \n",
       "direct_discount_per_unit                      0.0                    0.0   \n",
       "quantity_discount_per_unit                    0.0                    0.0   \n",
       "bundle_discount_per_unit                      0.0                    0.0   \n",
       "coupon_discount_per_unit                     42.0                    0.0   \n",
       "gift_item                                       0                      1   \n",
       "dc_ori                                          5                      5   \n",
       "dc_des                                          5                      5   \n",
       "actual_delivery_time                      0.25647                0.25647   \n",
       "benchmark                                 0.74353                0.74353   \n",
       "\n",
       "                                                4  \n",
       "package_ID                             e22627af66  \n",
       "order_ID                               e22627af66  \n",
       "delivery_type                                   1  \n",
       "ship_out_time                 2018-03-01 11:00:00  \n",
       "arr_station_time              2018-03-01 15:00:00  \n",
       "arr_time                      2018-03-01 17:00:00  \n",
       "user_ID                                cae0d8c01f  \n",
       "sku_ID                                 c98d32ff09  \n",
       "order_date                             2018-03-01  \n",
       "order_time                  2018-03-01 10:50:41.0  \n",
       "quantity                                        3  \n",
       "order_type                                      1  \n",
       "promise                                         1  \n",
       "original_unit_price                           0.0  \n",
       "final_unit_price                        -0.333333  \n",
       "direct_discount_per_unit                      0.0  \n",
       "quantity_discount_per_unit                    0.0  \n",
       "bundle_discount_per_unit                      0.0  \n",
       "coupon_discount_per_unit                 0.333333  \n",
       "gift_item                                       1  \n",
       "dc_ori                                          5  \n",
       "dc_des                                          5  \n",
       "actual_delivery_time                      0.25647  \n",
       "benchmark                                 0.74353  "
      ]
     },
     "execution_count": 49,
     "metadata": {},
     "output_type": "execute_result"
    }
   ],
   "source": [
    "#Creating a new column to calculate the difference between arrival time and order time and\n",
    "#Converting the new column units to hour so it matches so we can compare with the promise column (units in hour)\n",
    "delivery_data['actual_delivery_time'] = ((delivery_data['arr_time'].astype('datetime64[ns]') - delivery_data['order_time'].astype('datetime64[ns]'))/ pd.Timedelta(hours=1))/24\n",
    "delivery_data.replace('-',0,inplace= True)\n",
    "delivery_data = delivery_data.query('promise != \"0\"')\n",
    "delivery_data['benchmark'] = (delivery_data['promise'].astype('float') - delivery_data['actual_delivery_time']) /delivery_data['promise'].astype('float')\n",
    "delivery_data['promise'] =delivery_data['promise'].astype(int)\n",
    "delivery_data.head().T\n",
    "\n",
    "#calculating actual delivery time based on each ORDER\n"
   ]
  },
  {
   "cell_type": "code",
   "execution_count": 50,
   "metadata": {},
   "outputs": [
    {
     "name": "stdout",
     "output_type": "stream",
     "text": [
      "average promise time order type 1: 1.618220366960362\n",
      "average actual delivery time order type 1: 1.2289097812605374\n",
      "average promise time order type 2: 3.0841383378806873\n",
      "average actual delivery time order type 2: 2.5270743649408574\n"
     ]
    }
   ],
   "source": [
    "print(f\"average promise time order type 1: {delivery_data.query('order_type == 1')['promise'].mean()}\")\n",
    "print(f\"average actual delivery time order type 1: {delivery_data.query('order_type == 1')['actual_delivery_time'].mean()}\")\n",
    "print(f\"average promise time order type 2: {delivery_data.query('order_type == 2')['promise'].mean()}\")\n",
    "print(f\"average actual delivery time order type 2: {delivery_data.query('order_type == 2')['actual_delivery_time'].mean()}\")"
   ]
  },
  {
   "cell_type": "code",
   "execution_count": 51,
   "metadata": {},
   "outputs": [
    {
     "name": "stdout",
     "output_type": "stream",
     "text": [
      "average promise time order type 1: 0.9465215024867976\n",
      "average actual delivery time order type 1: 1.0365042040580394\n",
      "average promise time order type 2: 1.4264534087713736\n",
      "average actual delivery time order type 2: 1.5672067333958648\n"
     ]
    }
   ],
   "source": [
    "print(f\"average promise time order type 1: {delivery_data.query('order_type == 1')['promise'].std()}\")\n",
    "print(f\"average actual delivery time order type 1: {delivery_data.query('order_type == 1')['actual_delivery_time'].std()}\")\n",
    "print(f\"average promise time order type 2: {delivery_data.query('order_type == 2')['promise'].std()}\")\n",
    "print(f\"average actual delivery time order type 2: {delivery_data.query('order_type == 2')['actual_delivery_time'].std()}\")"
   ]
  },
  {
   "cell_type": "code",
   "execution_count": 33,
   "metadata": {},
   "outputs": [
    {
     "data": {
      "text/plain": [
       "(0.0, 800.0)"
      ]
     },
     "execution_count": 33,
     "metadata": {},
     "output_type": "execute_result"
    },
    {
     "data": {
      "image/png": "[encoded data removed]",
      "text/plain": [
       "<Figure size 640x480 with 2 Axes>"
      ]
     },
     "metadata": {},
     "output_type": "display_data"
    }
   ],
   "source": [
    "ax = delivery_data.plot.scatter(y='final_unit_price', x='actual_delivery_time', c='order_type', cmap='Set1',s=5)\n",
    "ax.set_xlim([0, 20])\n",
    "ax.set_ylim([0, 800])\n",
    "# delivery_data.head().T"
   ]
  },
  {
   "cell_type": "code",
   "execution_count": 38,
   "metadata": {},
   "outputs": [
    {
     "name": "stderr",
     "output_type": "stream",
     "text": [
      "c:\\Users\\Hannah\\AppData\\Local\\Programs\\Python\\Python310\\lib\\site-packages\\pandas\\plotting\\_matplotlib\\core.py:1259: UserWarning: No data for colormapping provided via 'c'. Parameters 'cmap' will be ignored\n",
      "  scatter = ax.scatter(\n"
     ]
    },
    {
     "data": {
      "text/plain": [
       "Text(0.5, 1.0, 'Acutal_delivery_time_1p')"
      ]
     },
     "execution_count": 38,
     "metadata": {},
     "output_type": "execute_result"
    },
    {
     "data": {
      "image/png": "[encoded data removed]",
      "text/plain": [
       "<Figure size 640x480 with 1 Axes>"
      ]
     },
     "metadata": {},
     "output_type": "display_data"
    }
   ],
   "source": [
    "Acutal_delivery_time_1p = delivery_data.query('order_type == 1').plot.scatter(y='final_unit_price', x='actual_delivery_time', cmap='Set1',s=5)\n",
    "Acutal_delivery_time_1p.set_xlim([0, 20])\n",
    "Acutal_delivery_time_1p.set_ylim([0, 800])\n",
    "Acutal_delivery_time_1p.set_title('Acutal_delivery_time_1p')"
   ]
  },
  {
   "cell_type": "code",
   "execution_count": 39,
   "metadata": {},
   "outputs": [
    {
     "data": {
      "text/plain": [
       "Text(0.5, 1.0, 'Acutal_delivery_time_3p')"
      ]
     },
     "execution_count": 39,
     "metadata": {},
     "output_type": "execute_result"
    },
    {
     "data": {
      "image/png": "[encoded data removed]",
      "text/plain": [
       "<Figure size 640x480 with 1 Axes>"
      ]
     },
     "metadata": {},
     "output_type": "display_data"
    }
   ],
   "source": [
    "Acutal_delivery_time_3p = delivery_data.query('order_type == 2').plot.scatter(y='final_unit_price', x='actual_delivery_time', cmap='Set1',s=5)\n",
    "Acutal_delivery_time_3p.set_xlim([0, 20])\n",
    "Acutal_delivery_time_3p.set_ylim([0, 800])\n",
    "Acutal_delivery_time_3p.set_title('Acutal_delivery_time_3p')"
   ]
  },
  {
   "cell_type": "code",
   "execution_count": null,
   "metadata": {},
   "outputs": [],
   "source": [
    "#average of actual delivery timem of order by order type\n",
    "delivery_data.groupby('order_type')['delivered_time_difference'].mean()"
   ]
  },
  {
   "cell_type": "code",
   "execution_count": null,
   "metadata": {},
   "outputs": [],
   "source": [
    "delivery_data['promise'].value_counts()\n",
    "\n",
    "deliver_data_filter = delivery_data.query('promise != \"0\"')\n",
    "deliver_data_filter['promise'] = deliver_data_filter['promise'].astype('int')"
   ]
  },
  {
   "cell_type": "code",
   "execution_count": null,
   "metadata": {},
   "outputs": [],
   "source": [
    "#average of actual delivery timem of order by order type\n",
    "deliver_data_filter.groupby('order_type')['promise'].mean()"
   ]
  },
  {
   "cell_type": "code",
   "execution_count": null,
   "metadata": {},
   "outputs": [],
   "source": [
    "delivery_data.query('order_ID == \"e22627af66\"').T"
   ]
  },
  {
   "cell_type": "code",
   "execution_count": null,
   "metadata": {},
   "outputs": [],
   "source": [
    "#The count value of the different type in logistics \n",
    "delivery_data['delivery_type'].value_counts().plot(kind='bar')\n",
    "print(delivery_data['delivery_type'].value_counts())"
   ]
  },
  {
   "cell_type": "code",
   "execution_count": null,
   "metadata": {},
   "outputs": [],
   "source": [
    "delivery_data.to_csv('data.csv')"
   ]
  },
  {
   "cell_type": "code",
   "execution_count": null,
   "metadata": {},
   "outputs": [],
   "source": [
    "#Caculating how many order were delivered within the promise time range and how many fail to meet the promise time range\n",
    "delivery_data['failed_dt'] = delivery_data['benchmark'].apply(lambda x:\"PASS\" if float(x) > 0 else \"FAIL\")\n",
    "dict(delivery_data['failed_dt'].value_counts())"
   ]
  },
  {
   "cell_type": "code",
   "execution_count": null,
   "metadata": {},
   "outputs": [],
   "source": [
    "#Number of order that were fail to meet the promise time range and its logistic type = 1\n",
    "delivery_data.query(\"failed_dt == 'FAIL' & delivery_type == 1\")['failed_dt'].value_counts()"
   ]
  },
  {
   "cell_type": "code",
   "execution_count": null,
   "metadata": {},
   "outputs": [],
   "source": [
    "delivery_satisfaction_rate = {\"t1_success\":(1-(43378/272618))*100,\"t0_success\":(1-(52221-43378)/54244)*100}\n",
    "print(delivery_satisfaction_rate)"
   ]
  },
  {
   "cell_type": "code",
   "execution_count": null,
   "metadata": {},
   "outputs": [],
   "source": [
    "#checking if there is JD suppleirs are using 3p logistics\n",
    "delivery_data.query(\"order_type == 1 & delivery_type == 0\")"
   ]
  },
  {
   "cell_type": "code",
   "execution_count": null,
   "metadata": {},
   "outputs": [],
   "source": [
    "delivery_data['promise'].value_counts()"
   ]
  },
  {
   "cell_type": "code",
   "execution_count": null,
   "metadata": {},
   "outputs": [],
   "source": [
    "#General overview of promise and final_unit_price on each order\n",
    "delivery_data[\"promise\"]=delivery_data[\"promise\"].astype('str')\n",
    "plot = delivery_data.plot.scatter(x='promise',y='final_unit_price',)\n",
    "plot.set_ylim(0,800) "
   ]
  },
  {
   "cell_type": "code",
   "execution_count": null,
   "metadata": {},
   "outputs": [],
   "source": [
    "#Joining the order data and sku data based on sku_ID\n",
    "sku_order_data = pd.merge(order_data,sku_data, on =['sku_ID'])\n",
    "sku_order_data['attribute1'].astype('str')"
   ]
  },
  {
   "cell_type": "code",
   "execution_count": null,
   "metadata": {},
   "outputs": [],
   "source": [
    "#Filtering the data based on the different attribute\n",
    "sku_order_data_atr1 = sku_order_data.query(\"attribute1 == '1'\")\n",
    "sku_order_data_atr2 = sku_order_data.query(\"attribute1 == '2'\")\n",
    "sku_order_data_atr3 = sku_order_data.query(\"attribute1 == '3'\")\n",
    "sku_order_data_atr4 = sku_order_data.query(\"attribute1 == '4'\")\n",
    "sku_order_data_atr_unknwon = sku_order_data.query(\"attribute1 == '-'\")"
   ]
  },
  {
   "cell_type": "code",
   "execution_count": null,
   "metadata": {},
   "outputs": [],
   "source": [
    "plot1 = sku_order_data_atr1.plot.scatter(x='promise',y='final_unit_price',)\n",
    "# plot1.set_ylim(0,600)"
   ]
  },
  {
   "cell_type": "code",
   "execution_count": null,
   "metadata": {},
   "outputs": [],
   "source": [
    "plot2 = sku_order_data_atr2.plot.scatter(x='promise',y='final_unit_price',)\n",
    "plot2.set_ylim(0,600)"
   ]
  },
  {
   "cell_type": "code",
   "execution_count": null,
   "metadata": {},
   "outputs": [],
   "source": [
    "plot3 = sku_order_data_atr3.plot.scatter(x='promise',y='final_unit_price',)\n",
    "plot3.set_ylim(0,1000)"
   ]
  },
  {
   "cell_type": "code",
   "execution_count": null,
   "metadata": {},
   "outputs": [],
   "source": [
    "plot4 = sku_order_data_atr4.plot.scatter(x='promise',y='final_unit_price',)\n",
    "plot4.set_ylim(0,1000)"
   ]
  },
  {
   "cell_type": "code",
   "execution_count": null,
   "metadata": {},
   "outputs": [],
   "source": [
    "plot5 = sku_order_data_atr_unknwon.plot.scatter(x='promise',y='final_unit_price',)\n",
    "plot5.set_ylim(0,1000)"
   ]
  },
  {
   "cell_type": "code",
   "execution_count": null,
   "metadata": {},
   "outputs": [],
   "source": [
    "order_data.head().T"
   ]
  },
  {
   "cell_type": "code",
   "execution_count": null,
   "metadata": {},
   "outputs": [],
   "source": [
    "#Replace promise in the order data table \"-\" with 100, easier to filter out\n",
    "order_data_mod = order_data.replace('-','100')\n",
    "\n"
   ]
  },
  {
   "cell_type": "code",
   "execution_count": null,
   "metadata": {},
   "outputs": [],
   "source": [
    "#Average promise time\n",
    "order_data_1 =order_data_mod[(order_data_mod['order_type'] == 1) & (order_data_mod['promise'] != '100')]\n",
    "\n",
    "mean_t1 = order_data_1['promise'].astype('float').mean()\n",
    "\n",
    "order_data_2 = order_data_mod[(order_data_mod['order_type'] == 2) & (order_data_mod['promise'] != '100')]\n",
    "\n",
    "mean_t2 = order_data_2['promise'].astype('float').mean()\n",
    "print(f'avg for 1p: {mean_t1}')\n",
    "print(f'avg for 3p: {mean_t2}')"
   ]
  },
  {
   "cell_type": "code",
   "execution_count": null,
   "metadata": {},
   "outputs": [],
   "source": [
    "order_data_1['promise'].value_counts()"
   ]
  },
  {
   "cell_type": "code",
   "execution_count": null,
   "metadata": {},
   "outputs": [],
   "source": [
    "order_data_2['promise'].value_counts()"
   ]
  },
  {
   "cell_type": "code",
   "execution_count": null,
   "metadata": {},
   "outputs": [],
   "source": [
    "#Percentage for unknown_promise_type1_percentage\n",
    "unknown_promise_t1 = order_data_mod[(order_data_mod['order_type'] == 1)]['promise'].value_counts()['100']\n",
    "total_count = sum(order_data_mod[(order_data_mod['order_type'] == 1)]['promise'].value_counts()) \n",
    "unknown_promise_percentage = (unknown_promise_t1) / total_count * 100\n",
    "unknown_promise_percentage"
   ]
  },
  {
   "cell_type": "code",
   "execution_count": null,
   "metadata": {},
   "outputs": [],
   "source": [
    "#checking if is same region shipping for those orders without promimse time\n",
    "#True means same region\n",
    "#False means from different region\n",
    "unknown_promise_t1 = order_data_mod[(order_data_mod['order_type'] == 1)]\n",
    "unknown_promise_t1 = unknown_promise_t1[(unknown_promise_t1['promise'] == '100')]\n",
    "unknown_promise_t1['difference_in_shipping'] = unknown_promise_t1['dc_ori'] == unknown_promise_t1['dc_des']\n",
    "unknown_promise_t1['difference_in_shipping'].value_counts()\n"
   ]
  },
  {
   "cell_type": "code",
   "execution_count": null,
   "metadata": {},
   "outputs": [],
   "source": [
    "print(1-(73/(1241+73)))\n",
    "print(len(order_data_mod[(order_data_mod['order_type'] == 1)]))\n",
    "# print(len(order_data_1))\n",
    "# print(274154+1241+73)\n",
    "# print(275468*0.0048)"
   ]
  },
  {
   "cell_type": "code",
   "execution_count": null,
   "metadata": {},
   "outputs": [],
   "source": [
    "unknown_promise_t1[unknown_promise_t1['difference_in_shipping']==True].head().T"
   ]
  },
  {
   "cell_type": "code",
   "execution_count": null,
   "metadata": {},
   "outputs": [],
   "source": [
    "#Percentage for unknown_promise_type2_percentage\n",
    "unknown_promise_t2 = order_data_mod[(order_data_mod['order_type'] == 2)]['promise'].value_counts()['100']\n",
    "total_count = sum(order_data_mod[(order_data_mod['order_type'] == 2)]['promise'].value_counts()) \n",
    "unknown_promise_percentage = (unknown_promise_t2) / total_count * 100\n",
    "unknown_promise_percentage"
   ]
  },
  {
   "cell_type": "code",
   "execution_count": null,
   "metadata": {},
   "outputs": [],
   "source": [
    "#average promise time especially for same region delivery\n",
    "order_data_mod3 = order_data_mod[order_data_mod['promise'] != '100']\n",
    "order_data_mod3['region_difference'] = order_data_mod3['dc_ori'] == order_data_mod3['dc_des']\n",
    "order_data_mod3 = order_data_mod3[order_data_mod3['region_difference'] == True]\n",
    "avg_t1 = order_data_mod3[order_data_mod3['order_type']==1]['promise'].astype('int64')\n",
    "avg_t3 = order_data_mod3[order_data_mod3['order_type']==2]['promise'].astype('int64')\n",
    "print(f'average for 1p {avg_t1.mean()}')\n",
    "print(f'average for 3p {avg_t3.mean()}')"
   ]
  },
  {
   "cell_type": "code",
   "execution_count": null,
   "metadata": {},
   "outputs": [],
   "source": [
    "delivery_data[delivery_data['sku_ID'] == 'c98d32ff09']['order_type'].value_counts()"
   ]
  },
  {
   "cell_type": "code",
   "execution_count": null,
   "metadata": {},
   "outputs": [],
   "source": [
    "df1 = delivery_data[['sku_ID','order_type']]\n",
    "df1.head()\n",
    "print(df1.value_counts())\n",
    "# df2 = df1.groupby(['sku_ID','order_type'])\n",
    "# df2"
   ]
  },
  {
   "cell_type": "code",
   "execution_count": null,
   "metadata": {},
   "outputs": [],
   "source": [
    "# checking if 1 SKU could be both 1p and 3p order\n",
    "df1.reset_index()\n",
    "dict_ = {}\n",
    "dup = []\n",
    "for index, row in df1.iterrows():\n",
    "    if row[0] not in dict_:\n",
    "        dict_[row[0]] = row[1]\n",
    "    else:\n",
    "        if dict_[row[0]] != row[1]:\n",
    "            dup.append(row[0])"
   ]
  },
  {
   "cell_type": "code",
   "execution_count": null,
   "metadata": {},
   "outputs": [],
   "source": [
    "dup\n",
    "#result shows there is no chance for 1 SKU to be both order types"
   ]
  },
  {
   "cell_type": "code",
   "execution_count": null,
   "metadata": {},
   "outputs": [],
   "source": [
    "# Joining order table and Sku table together\n",
    "sku_order_data = pd.merge(order_data,sku_data, on =['sku_ID'])"
   ]
  },
  {
   "cell_type": "code",
   "execution_count": null,
   "metadata": {},
   "outputs": [],
   "source": [
    "sku_order_data.head().T"
   ]
  },
  {
   "cell_type": "code",
   "execution_count": null,
   "metadata": {},
   "outputs": [],
   "source": [
    "#\n",
    "sku_order_data_1 = sku_order_data[['brand_ID','type']]\n",
    "dict_2 = {}\n",
    "dup1 = {}\n",
    "for index, row in sku_order_data_1.iterrows():\n",
    "    brand_id = row[0]\n",
    "    type_ = row[1]\n",
    "    if brand_id not in dup1:\n",
    "        dup1[brand_id] = {type_:1}\n",
    "    else:\n",
    "        if type_ in dup1[brand_id]:\n",
    "            dup1[brand_id][type_] +=1\n",
    "        else:\n",
    "            dup1[brand_id][type_] = 1\n"
   ]
  },
  {
   "cell_type": "code",
   "execution_count": null,
   "metadata": {},
   "outputs": [],
   "source": [
    "len(set(dup1))"
   ]
  },
  {
   "cell_type": "code",
   "execution_count": null,
   "metadata": {},
   "outputs": [],
   "source": [
    "len(set(list(sku_order_data_1['brand_ID'])))"
   ]
  },
  {
   "cell_type": "code",
   "execution_count": null,
   "metadata": {},
   "outputs": [],
   "source": [
    "dup2 = {}\n",
    "dup3 = {}\n",
    "for i in dup1:\n",
    "    if len(dup1[i]) >1:\n",
    "        dup2[i] = round(dup1[i][1]/(dup1[i][1] + dup1[i][2]) * 100 ,2)\n",
    "        dup3[i] = dup1[i]\n",
    "        \n",
    "\n"
   ]
  },
  {
   "cell_type": "code",
   "execution_count": null,
   "metadata": {},
   "outputs": [],
   "source": [
    "# brands that can be sold by both 1p and 3p\n",
    "dup3"
   ]
  },
  {
   "cell_type": "code",
   "execution_count": null,
   "metadata": {},
   "outputs": [],
   "source": [
    "sorted(dup2.items(), key=lambda x: x[1])"
   ]
  },
  {
   "cell_type": "code",
   "execution_count": null,
   "metadata": {},
   "outputs": [],
   "source": [
    "#Brand Analysis - Find average price, average deliver time\n",
    "#Join Order data with sku data on sku id\n",
    "brand_data = pd.merge(order_data,sku_data, on =['sku_ID']).replace('-','100')"
   ]
  },
  {
   "cell_type": "code",
   "execution_count": null,
   "metadata": {},
   "outputs": [],
   "source": [
    "common_brand = brand_data[['brand_ID','order_type','final_unit_price']]\n",
    "common_brand"
   ]
  },
  {
   "cell_type": "code",
   "execution_count": null,
   "metadata": {},
   "outputs": [],
   "source": [
    "common_brand2 = common_brand.groupby(by = ['brand_ID','order_type'])['final_unit_price'].mean()\n",
    "# common_brand2 = common_brand2.reset_index()\n",
    "common_brand2 = common_brand2.reset_index()\n",
    "common_brand2\n",
    "common_brand2.to_csv('brand_data.csv')\n",
    "# common_brand2 = common_brand2[common_brand2['brand_ID'].duplicated()]\n",
    "# common_brand2['order_type'].value_counts()\n",
    "\n",
    "# common_brand2 =common_brand2.reset_index(name='count').sort_values(by='brand_ID',ascending=False)"
   ]
  },
  {
   "cell_type": "code",
   "execution_count": null,
   "metadata": {},
   "outputs": [],
   "source": [
    "a = (common_brand2['brand_ID'].duplicated())"
   ]
  },
  {
   "cell_type": "code",
   "execution_count": null,
   "metadata": {},
   "outputs": [],
   "source": [
    "brand_data.query('brand_ID == \"da5eb98d7d\" and final_unit_price < 0').T"
   ]
  },
  {
   "cell_type": "code",
   "execution_count": null,
   "metadata": {},
   "outputs": [],
   "source": [
    "#Distinct Brand (Number of Unique brands)\n",
    "count = brand_data['brand_ID'].nunique()\n",
    "print(count)"
   ]
  },
  {
   "cell_type": "code",
   "execution_count": null,
   "metadata": {},
   "outputs": [],
   "source": [
    "brand_data.head().T"
   ]
  },
  {
   "cell_type": "code",
   "execution_count": null,
   "metadata": {},
   "outputs": [],
   "source": [
    "#Average price\n",
    "avg_prices = brand_data.groupby('brand_ID')['final_unit_price'].mean()\n",
    "avg_prices"
   ]
  },
  {
   "cell_type": "code",
   "execution_count": null,
   "metadata": {},
   "outputs": [],
   "source": [
    "#Average Delivery time\n",
    "delivery_data = pd.merge(brand_data, deliver_data, on =['order_ID'])\n",
    "delivery_data['delivered_time'] = ((delivery_data['arr_time'].astype('datetime64[ns]') - delivery_data['order_time'].astype('datetime64[ns]'))/ pd.Timedelta(hours=1))\n",
    "delivery_data['delivered_time'] = delivery_data['delivered_time'].astype('float')\n",
    "avg_delivery_time = delivery_data.groupby('brand_ID')['delivered_time'].mean()\n",
    "avg_delivery_time = avg_delivery_time.to_frame().reset_index()\n",
    "avg_delivery_time\n"
   ]
  },
  {
   "cell_type": "code",
   "execution_count": null,
   "metadata": {},
   "outputs": [],
   "source": [
    "dfs = delivery_data = pd.merge(brand_data, deliver_data, on =['order_ID'])\n",
    "dfs.query(\"brand_ID == '3b53572827'\")"
   ]
  },
  {
   "cell_type": "code",
   "execution_count": null,
   "metadata": {},
   "outputs": [],
   "source": [
    "filtered_df.head().T"
   ]
  },
  {
   "cell_type": "code",
   "execution_count": null,
   "metadata": {},
   "outputs": [],
   "source": [
    "filtered_df[['brand_ID','final_unit_price','order_type']].query('order_type == 2').groupby(['brand_ID','order_type'])['final_unit_price'].mean().reset_index()"
   ]
  },
  {
   "cell_type": "code",
   "execution_count": null,
   "metadata": {},
   "outputs": [],
   "source": [
    "#Average Delivery time for 1p in terms of brand\n",
    "avg_delivery_time_1p_each_brand = filtered_df.query(\"order_type == 1\")\n",
    "avg_delivery_time_1p_each_brand = avg_delivery_time_1p_each_brand.groupby('brand_ID')['delivered_time'].mean()\n",
    "avg_delivery_time_1p_each_brand = avg_delivery_time_1p_each_brand.to_frame().reset_index()\n",
    "avg_delivery_time_1p_each_brand.to_csv('1p brand deliver time.csv')\n",
    "\n"
   ]
  },
  {
   "cell_type": "code",
   "execution_count": null,
   "metadata": {},
   "outputs": [],
   "source": [
    "#Average Delivery time for 3p in terms of brand\n",
    "avg_delivery_time_3p_each_brand = filtered_df.query(\"order_type == 2\")\n",
    "avg_delivery_time_3p_each_brand = avg_delivery_time_3p_each_brand.groupby('brand_ID')['delivered_time'].mean()\n",
    "avg_delivery_time_3p_each_brand = avg_delivery_time_3p_each_brand.to_frame().reset_index()\n",
    "avg_delivery_time_3p_each_brand.to_csv('3p brand deliver time.csv')\n"
   ]
  },
  {
   "cell_type": "code",
   "execution_count": null,
   "metadata": {},
   "outputs": [],
   "source": [
    "\n",
    "\n",
    "#Average Delivery time for 1p in terms of brand\n",
    "avg_delivery_time_1p_each_brand = delivery_data.query(\"order_type == 1\")\n",
    "avg_delivery_time_1p_each_brand = avg_delivery_time_1p_each_brand.groupby('brand_ID')['delivered_time'].mean()\n",
    "avg_delivery_time_1p_each_brand = avg_delivery_time_1p_each_brand.to_frame().reset_index()\n",
    "# avg_delivery_time_1p_each_brand.to_csv('1p brand deliver time.csv')"
   ]
  },
  {
   "cell_type": "code",
   "execution_count": null,
   "metadata": {},
   "outputs": [],
   "source": [
    "delivery_data.query(\"brand_ID == '3b53572827'\").to_csv('DEL_DATA.CSV')\n",
    "\n",
    "# avg_delivery_time_1p_each_bran1.groupby('brand_ID')['delivered_time'].mean()\n",
    "# avg_delivery_time_1p_each_brand.query(\"brand_ID == '3b53572827' and order_type == 1\").T\n"
   ]
  },
  {
   "cell_type": "code",
   "execution_count": null,
   "metadata": {},
   "outputs": [],
   "source": [
    "#Promise time value count for same shipping and shipped address \n",
    "#within the same region, promise time could be different\n",
    "check = order_data[order_data['sku_ID'] == '067b673f2b']\n",
    "check['shipping_difference'] = abs(order_data['dc_ori']- order_data['dc_des'])\n",
    "check2 = check[check['shipping_difference'] == 0]\n",
    "count = check2['promise'].value_counts()\n",
    "print(count)"
   ]
  },
  {
   "cell_type": "code",
   "execution_count": null,
   "metadata": {},
   "outputs": [],
   "source": [
    "#Promise time value count for different shipping and shipped address \n",
    "check = order_data[order_data['sku_ID'] == '067b673f2b']\n",
    "check['shipping_difference'] = abs(order_data['dc_ori']- order_data['dc_des'])\n",
    "check2 = check[check['shipping_difference'] != 0]\n",
    "count = check2['promise'].value_counts()\n",
    "print(count)"
   ]
  },
  {
   "cell_type": "code",
   "execution_count": null,
   "metadata": {},
   "outputs": [],
   "source": [
    "filtered_brand_id = {'198cec62a1': {2: 8395, 1: 2545},\n",
    " '9b0d3a5fc6': {1: 49683, 2: 3040},\n",
    " '204dbedf50': {1: 13219, 2: 2},\n",
    " '99d41501ff': {1: 47099, 2: 4270},\n",
    " 'a3f8885e47': {1: 7194, 2: 832},\n",
    " '1d78a930c2': {1: 188, 2: 16},\n",
    " '4efb032b5a': {2: 10389, 1: 4597},\n",
    " '552d09b59c': {1: 1953, 2: 18},\n",
    " '7cc01be867': {1: 4575, 2: 467},\n",
    " '906d0caa60': {1: 13037, 2: 2957},\n",
    " '4f65703579': {1: 2176, 2: 16148},\n",
    " '624d4750c3': {1: 891, 2: 30},\n",
    " '0b0f75e8d5': {2: 7631, 1: 7444},\n",
    " 'd3b11464d2': {1: 3550, 2: 1037},\n",
    " '5ab8ea8556': {1: 13202, 2: 15637},\n",
    " 'da5eb98d7d': {1: 3775, 2: 692},\n",
    " '8b40ec9ab7': {1: 1694, 2: 5459},\n",
    " '3daeabd2ce': {1: 17377, 2: 2504},\n",
    " '7b90c9e338': {1: 869, 2: 551},\n",
    " 'a9d8fd0a21': {1: 5777, 2: 5800},\n",
    " 'c2e19fe77b': {1: 144, 2: 26},\n",
    " '816ac3f3a9': {1: 1617, 2: 144},\n",
    " '74d632e731': {1: 450, 2: 64},\n",
    " 'e0c4997859': {1: 2189, 2: 132},\n",
    " '03c4806282': {2: 1969, 1: 750},\n",
    " '75411efd6b': {1: 450, 2: 1},\n",
    " '3e342224f0': {2: 2628, 1: 5856},\n",
    " '95edb60932': {2: 1072, 1: 245},\n",
    " '26216ff73f': {2: 367, 1: 43},\n",
    " 'b7e5c0f937': {2: 1853, 1: 1655},\n",
    " '235542bb7b': {1: 941, 2: 2859},\n",
    " '43999af013': {1: 13619, 2: 7863},\n",
    " 'd5b005ca7d': {2: 10, 1: 241},\n",
    " '94b4cdec6a': {1: 2136, 2: 338},\n",
    " '849303948f': {1: 222, 2: 71},\n",
    " '7fcb433bba': {2: 6471, 1: 196},\n",
    " 'b8942de7b2': {1: 330, 2: 199},\n",
    " '88262f1628': {1: 106, 2: 209},\n",
    " '787ea7298f': {2: 1010, 1: 5719},\n",
    " 'a2ff0f7b48': {1: 2661, 2: 558},\n",
    " '9b84d6b825': {1: 1088, 2: 40},\n",
    " 'fd68e214e8': {2: 2211, 1: 1},\n",
    " '93905470a7': {1: 448, 2: 303},\n",
    " '3500c9fab0': {1: 1811, 2: 142},\n",
    " 'fbee78d4ae': {1: 1670, 2: 11},\n",
    " '1976359719': {1: 298, 2: 10},\n",
    " '5a0b271e15': {2: 1219, 1: 444},\n",
    " 'd31ffa2f4d': {2: 1905, 1: 332},\n",
    " '054757964e': {2: 198, 1: 128},\n",
    " 'bce79eb8bf': {2: 374, 1: 15},\n",
    " '3c9be6a0ff': {1: 31, 2: 21},\n",
    " '6c61f385fb': {2: 92, 1: 25},\n",
    " '11532f4321': {1: 919, 2: 301},\n",
    " '930aadba98': {1: 12, 2: 114},\n",
    " 'f1d00479ef': {2: 1418, 1: 42},\n",
    " 'fc9c3cb979': {2: 65, 1: 19},\n",
    " 'a023d9bf1f': {1: 146, 2: 1},\n",
    " '042c8894a9': {1: 160, 2: 75},\n",
    " 'adbd559b78': {2: 776, 1: 2537},\n",
    " '31e19a2111': {1: 111, 2: 78},\n",
    " 'ddb787aeb9': {2: 1756, 1: 154},\n",
    " '76a692eab7': {2: 572, 1: 7},\n",
    " '3860bee7ce': {2: 232, 1: 155},\n",
    " '1e612490cc': {2: 522, 1: 41},\n",
    " '7aac002ed6': {1: 73, 2: 79},\n",
    " '8368e30fa1': {1: 167, 2: 1},\n",
    " '0e55ee273e': {1: 37, 2: 1},\n",
    " '5e9c5eb1cf': {1: 4, 2: 3},\n",
    " 'ab56426464': {1: 15, 2: 24},\n",
    " '3e472e2220': {1: 17, 2: 14},\n",
    " '3b53572827': {1: 26, 2: 10},\n",
    " '1d8b4b4c63': {1: 28, 2: 15},\n",
    " '6bbe185453': {1: 81, 2: 9},\n",
    " '584523bbde': {2: 7, 1: 1},\n",
    " 'd2124b2bae': {1: 148, 2: 5},\n",
    " 'e175e177d8': {2: 737, 1: 156},\n",
    " 'c72df2a3ec': {1: 6, 2: 3}}"
   ]
  },
  {
   "cell_type": "code",
   "execution_count": null,
   "metadata": {},
   "outputs": [],
   "source": [
    "filtered_brand_id_list = list(filtered_brand_id.keys())\n"
   ]
  },
  {
   "cell_type": "code",
   "execution_count": null,
   "metadata": {},
   "outputs": [],
   "source": [
    "avg_prices1= avg_prices.to_frame().reset_index()\n",
    "\n"
   ]
  },
  {
   "cell_type": "code",
   "execution_count": null,
   "metadata": {},
   "outputs": [],
   "source": [
    "avg_prices2 = avg_prices1[avg_prices1['brand_ID'].isin(filtered_brand_id_list)]\n",
    "avg_prices2"
   ]
  },
  {
   "cell_type": "code",
   "execution_count": null,
   "metadata": {},
   "outputs": [],
   "source": [
    "avg_filter_brand_id = pd.merge(avg_delivery_time,avg_prices2,on = ['brand_ID'])\n",
    "\n",
    "avg_filter_brand_id = avg_filter_brand_id.rename(columns = {'final_unit_price':'average_unit_price'})\n"
   ]
  },
  {
   "cell_type": "code",
   "execution_count": null,
   "metadata": {},
   "outputs": [],
   "source": [
    "avg_filter_brand_id['delivered_time'] = avg_filter_brand_id['delivered_time'].apply(lambda x: x.total_seconds() / 3600)\n",
    "avg_filter_brand_id"
   ]
  },
  {
   "cell_type": "code",
   "execution_count": null,
   "metadata": {},
   "outputs": [],
   "source": [
    "for index, row in avg_filter_brand_id.iterrows():\n",
    "    print(row['brand_ID'],row['average_unit_price'], row['delivered_time'])"
   ]
  },
  {
   "cell_type": "code",
   "execution_count": null,
   "metadata": {},
   "outputs": [],
   "source": [
    "unknown_promise  = order_data[order_data['promise'] == '-']\n",
    "a = unknown_promise.groupby(['dc_des'])"
   ]
  },
  {
   "cell_type": "code",
   "execution_count": null,
   "metadata": {},
   "outputs": [],
   "source": [
    "a"
   ]
  },
  {
   "cell_type": "code",
   "execution_count": null,
   "metadata": {},
   "outputs": [],
   "source": [
    "delivery_data.head().T"
   ]
  },
  {
   "cell_type": "code",
   "execution_count": null,
   "metadata": {},
   "outputs": [],
   "source": [
    "#the type of SKU being ordered (type = 1 if it is a 1P SKU and type = 2 if it is a 3P SKU), \n",
    "delivery_data_same_region = delivery_data[delivery_data['dc_ori'] == delivery_data['dc_des']]"
   ]
  },
  {
   "cell_type": "code",
   "execution_count": null,
   "metadata": {},
   "outputs": [],
   "source": [
    "delivery_data_same_region.head().T"
   ]
  },
  {
   "cell_type": "code",
   "execution_count": null,
   "metadata": {},
   "outputs": [],
   "source": [
    "#Creating a new column to calculate the difference between arrival time and order time and\n",
    "#Converting the new column units to hour so it matches so we can compare with the promise column (units in hour)\n",
    "delivery_data_same_region['actual_delivered_time'] = ((delivery_data_same_region['arr_time'].astype('datetime64[ns]') - delivery_data_same_region['order_time'].astype('datetime64[ns]'))/ pd.Timedelta(hours=1))/24\n",
    "delivery_data_same_region.head().T\n"
   ]
  },
  {
   "cell_type": "code",
   "execution_count": null,
   "metadata": {},
   "outputs": [],
   "source": [
    "delivery_data_filtered_first_party = delivery_data_same_region[(delivery_data_same_region['type'] == 1) & (delivery_data_same_region['promise'] != '-')] \n",
    "delivery_data_filtered_third_party = delivery_data_same_region[(delivery_data_same_region['type'] == 2) & (delivery_data_same_region['promise'] != '-')]\n",
    "\n",
    "delivery_data_filtered_first_party['promise'] = delivery_data_filtered_first_party['promise'].astype('float')\n",
    "\n",
    "delivery_data_filtered_third_party['promise'] = delivery_data_filtered_third_party['promise'].astype('float')"
   ]
  },
  {
   "cell_type": "code",
   "execution_count": null,
   "metadata": {},
   "outputs": [],
   "source": [
    "delivery_data_filtered_first_party_count = delivery_data_same_region[(delivery_data_same_region['type'] == 1) & (delivery_data_same_region['promise'] == '-')] \n",
    "delivery_data_filtered_third_party_count = delivery_data_same_region[(delivery_data_same_region['type'] == 2) & (delivery_data_same_region['promise'] == '-')]\n",
    "print(delivery_data_filtered_first_party_count.shape,delivery_data_filtered_third_party_count.shape)\n",
    "print(delivery_data_filtered_first_party.shape,delivery_data_filtered_third_party.shape)"
   ]
  },
  {
   "cell_type": "code",
   "execution_count": null,
   "metadata": {},
   "outputs": [],
   "source": [
    "# delivery_data_filtered_t1.dtypes\n",
    "avg_first_party_promise = delivery_data_filtered_first_party.groupby('dc_ori')['promise','actual_delivered_time'].agg('mean').reset_index()\n",
    "avg_third_party_promise = delivery_data_filtered_third_party.groupby('dc_ori')['promise','actual_delivered_time'].mean().reset_index()"
   ]
  },
  {
   "cell_type": "code",
   "execution_count": null,
   "metadata": {},
   "outputs": [],
   "source": [
    "avg_first_party_promise"
   ]
  }
 ],
 "metadata": {
  "kernelspec": {
   "display_name": "Python 3.10.6 64-bit",
   "language": "python",
   "name": "python3"
  },
  "language_info": {
   "codemirror_mode": {
    "name": "ipython",
    "version": 3
   },
   "file_extension": ".py",
   "mimetype": "text/x-python",
   "name": "python",
   "nbconvert_exporter": "python",
   "pygments_lexer": "ipython3",
   "version": "3.10.6"
  },
  "orig_nbformat": 4,
  "vscode": {
   "interpreter": {
    "hash": "b681030e630a14bb10dd041dbf7395aa296cf42f5dce9d31bae9e4d0d30cfd9b"
   }
  }
 },
 "nbformat": 4,
 "nbformat_minor": 2
}
