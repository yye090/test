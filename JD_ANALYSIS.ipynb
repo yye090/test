{
 "cells": [
  {
   "cell_type": "code",
   "execution_count": 1,
   "metadata": {},
   "outputs": [],
   "source": [
    "import pandas as pd\n",
    "import datetime \n",
    "import numpy as np\n",
    "import matplotlib.pyplot as plt\n",
    "from datetime import datetime\n",
    "from datetime import date"
   ]
  },
  {
   "cell_type": "code",
   "execution_count": 3,
   "metadata": {},
   "outputs": [],
   "source": [
    "click_data = pd.read_csv('JD_click_data.csv')\n",
    "deliver_data = pd.read_csv('JD_delivery_data.csv')\n",
    "inventory_data = pd.read_csv('JD_inventory_data.csv')\n",
    "network_data = pd.read_csv('JD_network_data.csv')\n",
    "order_data = pd.read_csv('JD_order_data.csv')\n",
    "sku_data = pd.read_csv('JD_sku_data.csv')\n",
    "user_data = pd.read_csv('JD_user_data.csv')\n",
    "deliver_data.rename(columns = {'type':'delivery_type'}, inplace = True)\n",
    "order_data.rename(columns = {'type':'order_type'}, inplace = True)\n",
    "\n",
    "\n"
   ]
  },
  {
   "cell_type": "code",
   "execution_count": 4,
   "metadata": {},
   "outputs": [
    {
     "name": "stdout",
     "output_type": "stream",
     "text": [
      "(550017, 22)\n",
      "(550017, 28)\n"
     ]
    }
   ],
   "source": [
    "#Joining deliver_data and order_data based on order_ID\n",
    "delivery_data = pd.merge(deliver_data,order_data, on =['order_ID'],how='right')\n",
    "print(delivery_data.shape)\n",
    "delivery_sku_data = pd.merge(delivery_data,sku_data, on =['sku_ID'],how='left')\n",
    "print(delivery_sku_data.shape)"
   ]
  },
  {
   "cell_type": "code",
   "execution_count": 8,
   "metadata": {},
   "outputs": [],
   "source": [
    "delivery_sku_data['same_region'] = 'No'\n",
    "# Assign value of 'yes' to rows where column A equals column B\n",
    "delivery_sku_data.loc[delivery_sku_data['dc_ori'] == delivery_sku_data['dc_des'], 'same_region'] = 'yes'"
   ]
  },
  {
   "cell_type": "code",
   "execution_count": 28,
   "metadata": {},
   "outputs": [
    {
     "name": "stderr",
     "output_type": "stream",
     "text": [
      "C:\\Users\\Hannah\\AppData\\Local\\Temp\\ipykernel_26952\\1847583892.py:2: SettingWithCopyWarning: \n",
      "A value is trying to be set on a copy of a slice from a DataFrame.\n",
      "Try using .loc[row_indexer,col_indexer] = value instead\n",
      "\n",
      "See the caveats in the documentation: https://pandas.pydata.org/pandas-docs/stable/user_guide/indexing.html#returning-a-view-versus-a-copy\n",
      "  delivery_sku_data_filter['promise']= delivery_sku_data_filter['promise'].astype(int) *24\n",
      "C:\\Users\\Hannah\\AppData\\Local\\Temp\\ipykernel_26952\\1847583892.py:4: SettingWithCopyWarning: \n",
      "A value is trying to be set on a copy of a slice from a DataFrame.\n",
      "Try using .loc[row_indexer,col_indexer] = value instead\n",
      "\n",
      "See the caveats in the documentation: https://pandas.pydata.org/pandas-docs/stable/user_guide/indexing.html#returning-a-view-versus-a-copy\n",
      "  delivery_sku_data_filter['actual_delivery_time'] = ((delivery_sku_data_filter['arr_time'].astype('datetime64[ns]') - delivery_sku_data_filter['order_time'].astype('datetime64[ns]'))/ pd.Timedelta(hours=1))\n"
     ]
    }
   ],
   "source": [
    "delivery_sku_data_filter = delivery_sku_data.query('promise != \"-\"')\n",
    "delivery_sku_data_filter['promise']= delivery_sku_data_filter['promise'].astype(int) *24\n",
    "delivery_sku_data_filter.shape\n",
    "delivery_sku_data_filter['actual_delivery_time'] = ((delivery_sku_data_filter['arr_time'].astype('datetime64[ns]') - delivery_sku_data_filter['order_time'].astype('datetime64[ns]'))/ pd.Timedelta(hours=1))"
   ]
  },
  {
   "cell_type": "code",
   "execution_count": 25,
   "metadata": {},
   "outputs": [
    {
     "data": {
      "text/plain": [
       "Index(['package_ID', 'order_ID', 'delivery_type', 'ship_out_time',\n",
       "       'arr_station_time', 'arr_time', 'user_ID', 'sku_ID', 'order_date',\n",
       "       'order_time', 'quantity', 'order_type', 'promise',\n",
       "       'original_unit_price', 'final_unit_price', 'direct_discount_per_unit',\n",
       "       'quantity_discount_per_unit', 'bundle_discount_per_unit',\n",
       "       'coupon_discount_per_unit', 'gift_item', 'dc_ori', 'dc_des', 'type',\n",
       "       'brand_ID', 'attribute1', 'attribute2', 'activate_date',\n",
       "       'deactivate_date', 'same_region', 'actual_delivery_time'],\n",
       "      dtype='object')"
      ]
     },
     "execution_count": 25,
     "metadata": {},
     "output_type": "execute_result"
    }
   ],
   "source": [
    "delivery_sku_data_filter.columns"
   ]
  },
  {
   "cell_type": "code",
   "execution_count": 29,
   "metadata": {},
   "outputs": [
    {
     "name": "stdout",
     "output_type": "stream",
     "text": [
      "order_type\n",
      "1    39.111594\n",
      "2    79.558971\n",
      "Name: promise, dtype: float64\n",
      "order_type\n",
      "1    29.319685\n",
      "2    60.469117\n",
      "Name: actual_delivery_time, dtype: float64\n",
      "1    274154\n",
      "2     67279\n",
      "Name: order_type, dtype: int64\n"
     ]
    }
   ],
   "source": [
    "print(delivery_sku_data_filter.groupby('order_type')['promise'].mean())\n",
    "print(delivery_sku_data_filter.groupby('order_type')['actual_delivery_time'].mean())\n",
    "\n",
    "print(delivery_sku_data_filter['order_type'].value_counts())"
   ]
  },
  {
   "cell_type": "code",
   "execution_count": 31,
   "metadata": {},
   "outputs": [
    {
     "name": "stdout",
     "output_type": "stream",
     "text": [
      "avg promise cross region\n",
      "order_type\n",
      "1    54.895881\n",
      "2    84.861103\n",
      "Name: promise, dtype: float64\n",
      "avg actual cross region\n",
      "order_type\n",
      "1    38.795422\n",
      "2    64.129144\n",
      "Name: actual_delivery_time, dtype: float64\n",
      "number of rows used to calculate\n",
      "1    95055\n",
      "2    39828\n",
      "Name: order_type, dtype: int64\n"
     ]
    }
   ],
   "source": [
    "#order level delivery data across region - mean\n",
    "print('avg promise cross region')\n",
    "print(delivery_sku_data_filter.query('same_region == \"No\"').groupby('order_type')['promise'].mean())\n",
    "print('avg actual cross region')\n",
    "print(delivery_sku_data_filter.query('same_region == \"No\"').groupby('order_type')['actual_delivery_time'].mean())\n",
    "print('number of rows used to calculate')\n",
    "print(delivery_sku_data_filter.query('same_region == \"No\"')['order_type'].value_counts())"
   ]
  },
  {
   "cell_type": "code",
   "execution_count": 37,
   "metadata": {},
   "outputs": [
    {
     "name": "stdout",
     "output_type": "stream",
     "text": [
      "avg promise cross region\n",
      "order_type\n",
      "1    26.336474\n",
      "2    34.368742\n",
      "Name: promise, dtype: float64\n",
      "avg actual cross region\n",
      "order_type\n",
      "1    26.883105\n",
      "2    37.390717\n",
      "Name: actual_delivery_time, dtype: float64\n"
     ]
    }
   ],
   "source": [
    "#order level delivery data across region - std\n",
    "print('avg promise cross region')\n",
    "print(delivery_sku_data_filter.query('same_region == \"No\"').groupby('order_type')['promise'].std())\n",
    "print('avg actual cross region')\n",
    "print(delivery_sku_data_filter.query('same_region == \"No\"').groupby('order_type')['actual_delivery_time'].std())"
   ]
  },
  {
   "cell_type": "code",
   "execution_count": 34,
   "metadata": {},
   "outputs": [
    {
     "name": "stdout",
     "output_type": "stream",
     "text": [
      "avg promise same region\n",
      "order_type\n",
      "1    30.734242\n",
      "2    71.866234\n",
      "Name: promise, dtype: float64\n",
      "avg actual same region\n",
      "order_type\n",
      "1    24.298589\n",
      "2    55.305135\n",
      "Name: actual_delivery_time, dtype: float64\n",
      "number of rows used to calculate\n",
      "1    179099\n",
      "2     27451\n",
      "Name: order_type, dtype: int64\n"
     ]
    }
   ],
   "source": [
    "# order level delivery data same region - mean\n",
    "print('avg promise same region')\n",
    "print(delivery_sku_data_filter.query('same_region == \"yes\"').groupby('order_type')['promise'].mean())\n",
    "print('avg actual same region')\n",
    "print(delivery_sku_data_filter.query('same_region == \"yes\"').groupby('order_type')['actual_delivery_time'].mean())\n",
    "print('number of rows used to calculate')\n",
    "print(delivery_sku_data_filter.query('same_region == \"yes\"')['order_type'].value_counts())"
   ]
  },
  {
   "cell_type": "code",
   "execution_count": 38,
   "metadata": {},
   "outputs": [
    {
     "name": "stdout",
     "output_type": "stream",
     "text": [
      "avg promise same region\n",
      "order_type\n",
      "1    15.042062\n",
      "2    34.678143\n",
      "Name: promise, dtype: float64\n",
      "avg actual same region\n",
      "order_type\n",
      "1    21.860516\n",
      "2    37.028332\n",
      "Name: actual_delivery_time, dtype: float64\n"
     ]
    }
   ],
   "source": [
    "#order level delivery data same region - std\n",
    "print('avg promise same region')\n",
    "print(delivery_sku_data_filter.query('same_region == \"yes\"').groupby('order_type')['promise'].std())\n",
    "print('avg actual same region')\n",
    "print(delivery_sku_data_filter.query('same_region == \"yes\"').groupby('order_type')['actual_delivery_time'].std())"
   ]
  },
  {
   "cell_type": "code",
   "execution_count": null,
   "metadata": {},
   "outputs": [],
   "source": []
  },
  {
   "cell_type": "code",
   "execution_count": null,
   "metadata": {},
   "outputs": [],
   "source": [
    "order_data\n",
    "missing_promise_order = order_data.query('promise == \"-\"')\n",
    "print(len(missing_promise_order['order_ID'].unique()))\n",
    "print(len(missing_promise_order.query('dc_ori == dc_des')['order_ID'].unique()))\n",
    "print(len(missing_promise_order.query('dc_ori != dc_des')['order_ID'].unique()))\n",
    "# print(missing_promise_order.query('dc_ori != dc_des').shape)"
   ]
  },
  {
   "cell_type": "code",
   "execution_count": null,
   "metadata": {},
   "outputs": [],
   "source": []
  },
  {
   "cell_type": "code",
   "execution_count": null,
   "metadata": {},
   "outputs": [],
   "source": [
    "bins = [0, 100, 200, 300,400,500,600,700,800,900,float('inf')]\n",
    "\n",
    "# Create labels for each bin\n",
    "labels = ['0 - 100', '100 - 200', '200 - 300', '300 - 400', '400 - 500', '500 - 600', '600 - 700', '700 - 800', '800 - 900','900 +']\n",
    "\n",
    "# Add new column to DataFrame with price ranges as categories\n",
    "delivery_sku_data['Price_Range'] = pd.cut(delivery_sku_data['final_unit_price'], bins=bins, labels=labels)\n"
   ]
  },
  {
   "cell_type": "code",
   "execution_count": null,
   "metadata": {},
   "outputs": [],
   "source": [
    "delivery_sku_data.groupby(['Price_Range','promise','order_type','same_region'])['order_ID'].count().reset_index().to_csv(\"order_data1.csv\",index=False)\n",
    "# delivery_sku_data.shape"
   ]
  },
  {
   "cell_type": "code",
   "execution_count": null,
   "metadata": {},
   "outputs": [],
   "source": [
    "delivery_sku_data.query('gift_item == 1').head().T"
   ]
  },
  {
   "cell_type": "code",
   "execution_count": null,
   "metadata": {},
   "outputs": [],
   "source": [
    "delivery_sku_data.head().T"
   ]
  },
  {
   "cell_type": "code",
   "execution_count": null,
   "metadata": {},
   "outputs": [],
   "source": [
    "print(with_promise.query('dc_ori == dc_des and order_type == 1')['Price_Range'].value_counts())"
   ]
  },
  {
   "cell_type": "code",
   "execution_count": null,
   "metadata": {},
   "outputs": [],
   "source": [
    "print(with_promise.query('dc_ori == dc_des and order_type == 2')['Price_Range'].value_counts())"
   ]
  },
  {
   "cell_type": "code",
   "execution_count": null,
   "metadata": {},
   "outputs": [],
   "source": [
    "print(with_promise.query('dc_ori != dc_des and order_type == 1')['Price_Range'].value_counts())"
   ]
  },
  {
   "cell_type": "code",
   "execution_count": null,
   "metadata": {},
   "outputs": [],
   "source": [
    "print(with_promise.query('dc_ori != dc_des and order_type == 2')['Price_Range'].value_counts())"
   ]
  },
  {
   "cell_type": "code",
   "execution_count": null,
   "metadata": {},
   "outputs": [],
   "source": [
    "bins = [0, 100, 200, 300,400,500,600,700,800,900,float('inf')]\n",
    "\n",
    "# Create labels for each bin\n",
    "labels = ['0 - 100', '100 - 200', '200 - 300', '300 - 400', '400 - 500', '500 - 600', '600 - 700', '700 - 800', '800 - 900','900 +']\n",
    "\n",
    "# Add new column to DataFrame with price ranges as categories\n",
    "missing_promise_order['Price_Range'] = pd.cut(missing_promise_order['final_unit_price'], bins=bins, labels=labels)\n",
    "# delivery_sku_data_filtered_s['promise_actual_difference'] = delivery_sku_data_filtered_s['promise'] - delivery_sku_data_filtered_s['actual_delivery_time']\n",
    "print(missing_promise_order['Price_Range'].value_counts())"
   ]
  },
  {
   "cell_type": "code",
   "execution_count": null,
   "metadata": {},
   "outputs": [],
   "source": [
    "missing_promise_order.query('dc_ori == dc_des')['Price_Range'].value_counts()"
   ]
  },
  {
   "cell_type": "code",
   "execution_count": null,
   "metadata": {},
   "outputs": [],
   "source": [
    "missing_promise_order.query('dc_ori != dc_des')['Price_Range'].value_counts()"
   ]
  },
  {
   "cell_type": "code",
   "execution_count": null,
   "metadata": {},
   "outputs": [],
   "source": [
    "missing_promise_order.head().T"
   ]
  },
  {
   "cell_type": "code",
   "execution_count": null,
   "metadata": {},
   "outputs": [],
   "source": [
    "delivery_sku_data['actual_delivery_time'] = ((delivery_sku_data['arr_time'].astype('datetime64[ns]') - delivery_sku_data['order_time'].astype('datetime64[ns]'))/ pd.Timedelta(hours=1))/24\n",
    "delivery_sku_data = delivery_sku_data.replace('-',0)\n",
    "delivery_sku_data_filtered = delivery_sku_data.query('promise != \"0\"')\n",
    "delivery_sku_data_filtered['same_region'] = 'No'\n",
    "# Assign value of 'yes' to rows where column A equals column B\n",
    "delivery_sku_data_filtered.loc[delivery_sku_data_filtered['dc_ori'] == delivery_sku_data_filtered['dc_des'], 'same_region'] = 'yes'\n",
    "delivery_sku_data_filtered['promise'] =delivery_sku_data_filtered['promise'].astype(int)"
   ]
  },
  {
   "cell_type": "code",
   "execution_count": null,
   "metadata": {},
   "outputs": [],
   "source": [
    "# print(delivery_sku_data.query('actual_delivery_time != \"0\"').shape)\n",
    "# print(delivery_sku_data.query('actual_delivery_time == \"0\"').shape)\n",
    "\n",
    "delivery_sku_data['promise'].value_counts()"
   ]
  },
  {
   "cell_type": "code",
   "execution_count": null,
   "metadata": {},
   "outputs": [],
   "source": [
    "# Order data where the actual delivey time is less than promise time\n",
    "delivery_sku_data_filtered_s = delivery_sku_data_filtered.query('promise < actual_delivery_time')\n",
    "# delivery_sku_data_filtered_s.head().T"
   ]
  },
  {
   "cell_type": "code",
   "execution_count": null,
   "metadata": {},
   "outputs": [],
   "source": [
    "delivery_sku_data_filtered_s.columns"
   ]
  },
  {
   "cell_type": "code",
   "execution_count": null,
   "metadata": {},
   "outputs": [],
   "source": [
    "    \n",
    "bins = [0, 100, 200, 300,400,500,600,700,800,900,float('inf')]\n",
    "\n",
    "# Create labels for each bin\n",
    "labels = ['0 - 100', '100 - 200', '200 - 300', '300 - 400', '400 - 500', '500 - 600', '600 - 700', '700 - 800', '800 - 900','900 +']\n",
    "\n",
    "# Add new column to DataFrame with price ranges as categories\n",
    "delivery_sku_data_filtered_s['Price_Range'] = pd.cut(delivery_sku_data_filtered_s['final_unit_price'], bins=bins, labels=labels)\n",
    "delivery_sku_data_filtered_s['promise_actual_difference'] = delivery_sku_data_filtered_s['actual_delivery_time'] - delivery_sku_data_filtered_s['promise'] "
   ]
  },
  {
   "cell_type": "code",
   "execution_count": null,
   "metadata": {},
   "outputs": [],
   "source": [
    "delivery_sku_data_filtered_s.groupby(['order_type','same_region','Price_Range','promise'])['promise_actual_difference'].mean().reset_index().to_csv('test2.csv',index=False)"
   ]
  },
  {
   "cell_type": "code",
   "execution_count": null,
   "metadata": {},
   "outputs": [],
   "source": [
    "import os\n",
    "\n",
    "os.getcwd()"
   ]
  }
 ],
 "metadata": {
  "kernelspec": {
   "display_name": "Python 3",
   "language": "python",
   "name": "python3"
  },
  "language_info": {
   "codemirror_mode": {
    "name": "ipython",
    "version": 3
   },
   "file_extension": ".py",
   "mimetype": "text/x-python",
   "name": "python",
   "nbconvert_exporter": "python",
   "pygments_lexer": "ipython3",
   "version": "3.10.6"
  },
  "orig_nbformat": 4
 },
 "nbformat": 4,
 "nbformat_minor": 2
}
